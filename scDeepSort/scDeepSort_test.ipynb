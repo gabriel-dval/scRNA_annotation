{
 "cells": [
  {
   "cell_type": "markdown",
   "metadata": {},
   "source": [
    "# Test code to run the scDeepSort method on reference bone marrow dataset"
   ]
  },
  {
   "cell_type": "markdown",
   "metadata": {},
   "source": [
    "The original repo for this method is available at : https://github.com/ZJUFanLab/scDeepSort/tree/master \n"
   ]
  },
  {
   "cell_type": "code",
   "execution_count": null,
   "metadata": {},
   "outputs": [],
   "source": [
    "# Import scDeepSort and other associated packages\n",
    "\n",
    "from deepsort import DeepSortPredictor\n",
    "model = DeepSortPredictor(species='human', tissue='Spleen')"
   ]
  },
  {
   "cell_type": "code",
   "execution_count": null,
   "metadata": {},
   "outputs": [],
   "source": [
    "# Load data to annotate in h5ad format\n",
    "\n",
    "ref_adata = sc.read('../SingleR/manual_annot.h5ad')"
   ]
  }
 ],
 "metadata": {
  "language_info": {
   "name": "python"
  }
 },
 "nbformat": 4,
 "nbformat_minor": 2
}
