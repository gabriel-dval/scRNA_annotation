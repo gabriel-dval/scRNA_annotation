{
 "cells": [
  {
   "cell_type": "markdown",
   "metadata": {},
   "source": [
    "# Notebook to plot various figures"
   ]
  },
  {
   "cell_type": "markdown",
   "metadata": {},
   "source": [
    "In this notebook are the generated plotly figures for different tests and metrics"
   ]
  },
  {
   "cell_type": "code",
   "execution_count": 2,
   "metadata": {},
   "outputs": [],
   "source": [
    "import plotly.graph_objects as go\n",
    "import plotly.express as px\n",
    "from plotly.subplots import make_subplots\n",
    "import plotly.io as pio\n",
    "import pandas as pd\n",
    "import numpy as np\n",
    "import os"
   ]
  },
  {
   "cell_type": "markdown",
   "metadata": {},
   "source": [
    "### Skull bone marrow results"
   ]
  },
  {
   "cell_type": "code",
   "execution_count": 16,
   "metadata": {},
   "outputs": [
    {
     "data": {
      "application/vnd.plotly.v1+json": {
       "config": {
        "plotlyServerURL": "https://plot.ly"
       },
       "data": [
        {
         "marker": {
          "color": "#4D8B31"
         },
         "name": "Correct",
         "type": "bar",
         "x": [
          "mATLAS FACS",
          "mATLAS Droplet",
          "PangLao",
          "CellXGene",
          "Tabula Muris"
         ],
         "y": [
          3,
          10,
          5,
          9,
          8
         ]
        },
        {
         "marker": {
          "color": "#FFC800"
         },
         "name": "Partially correct",
         "type": "bar",
         "x": [
          "mATLAS FACS",
          "mATLAS Droplet",
          "PangLao",
          "CellXGene",
          "Tabula Muris"
         ],
         "y": [
          12,
          31,
          35,
          30,
          30
         ]
        },
        {
         "marker": {
          "color": "#FF8427"
         },
         "name": "Incorrect",
         "type": "bar",
         "x": [
          "mATLAS FACS",
          "mATLAS Droplet",
          "PangLao",
          "CellXGene",
          "Tabula Muris"
         ],
         "y": [
          35,
          9,
          10,
          11,
          12
         ]
        }
       ],
       "layout": {
        "barcornerradius": 5,
        "barmode": "group",
        "template": {
         "data": {
          "scatter": [
           {
            "type": "scatter"
           }
          ]
         }
        },
        "title": {
         "font": {
          "size": 16
         },
         "text": "SingleR annotation results for 5 reference datasets",
         "x": 0.5,
         "xanchor": "center",
         "y": 0.95,
         "yanchor": "middle"
        },
        "xaxis": {
         "title": {
          "font": {
           "size": 14
          },
          "text": "Reference datasets"
         }
        },
        "yaxis": {
         "title": {
          "font": {
           "size": 14
          },
          "text": "Nb of clusters"
         }
        }
       }
      }
     },
     "metadata": {},
     "output_type": "display_data"
    }
   ],
   "source": [
    "# Figure 1 - show summary results for different reference datasets\n",
    "# Simple barchart for all 5 reference datasets\n",
    "\n",
    "ref_datasets=['mATLAS FACS', 'mATLAS Droplet', 'PangLao', 'CellXGene', 'Tabula Muris']\n",
    "y1 = [3, 10, 5, 9, 8]\n",
    "y2 = [12, 31, 35, 30, 30]\n",
    "y3 = [12, 31, 35, 30, 30]\n",
    "\n",
    "fig = go.Figure(data=[\n",
    "    go.Bar(name='Correct', x=ref_datasets, y=[3, 10, 5, 9, 8], marker_color='#4D8B31'),\n",
    "    go.Bar(name='Partially correct', x=ref_datasets, y=[12, 31, 35, 30, 30], marker_color='#FFC800'),\n",
    "    go.Bar(name='Incorrect', x=ref_datasets, y=[35, 9, 10, 11, 12], marker_color='#FF8427'),\n",
    "], layout=dict(\n",
    "        barcornerradius=5,\n",
    "    ),)\n",
    "# Change the bar mode\n",
    "fig.update_layout(barmode='group', \n",
    "                  template='none',\n",
    "                  yaxis = dict(title='Nb of clusters',\n",
    "                               title_font = dict(size=14)),\n",
    "                  xaxis = dict(title='Reference datasets',\n",
    "                               title_font = dict(size=14)),\n",
    "                  title = dict(text = 'SingleR annotation results for 5 reference datasets',\n",
    "                               font=dict(size=16),\n",
    "                               xanchor='center',\n",
    "                               yanchor='middle',\n",
    "                               x=0.5,\n",
    "                               y=0.95))\n",
    "fig.show()\n",
    "#pio.write_image(fig, '../../PNG_results/sbm_barchart_singleR_results.png')\n",
    "\n"
   ]
  },
  {
   "cell_type": "code",
   "execution_count": 74,
   "metadata": {},
   "outputs": [
    {
     "data": {
      "application/vnd.plotly.v1+json": {
       "config": {
        "plotlyServerURL": "https://plot.ly"
       },
       "data": [
        {
         "domain": {
          "x": [
           0,
           0.16799999999999998
          ],
          "y": [
           0,
           1
          ]
         },
         "hole": 0.4,
         "hoverinfo": "label+percent+name",
         "labels": [
          "Correct",
          "Partially correct",
          "Incorrect"
         ],
         "marker": {
          "colors": [
           "green",
           "orange",
           "red"
          ]
         },
         "name": "mATLAS Droplet",
         "type": "pie",
         "values": [
          3,
          12,
          35
         ]
        },
        {
         "domain": {
          "x": [
           0.208,
           0.376
          ],
          "y": [
           0,
           1
          ]
         },
         "hole": 0.4,
         "hoverinfo": "label+percent+name",
         "labels": [
          "Correct",
          "Partially correct",
          "Incorrect"
         ],
         "marker": {
          "colors": [
           "green",
           "orange",
           "red"
          ]
         },
         "name": "mATLAS FACS",
         "type": "pie",
         "values": [
          10,
          31,
          9
         ]
        },
        {
         "domain": {
          "x": [
           0.416,
           0.584
          ],
          "y": [
           0,
           1
          ]
         },
         "hole": 0.4,
         "hoverinfo": "label+percent+name",
         "labels": [
          "Correct",
          "Partially correct",
          "Incorrect"
         ],
         "marker": {
          "colors": [
           "green",
           "orange",
           "red"
          ]
         },
         "name": "PangLao",
         "type": "pie",
         "values": [
          5,
          35,
          10
         ]
        },
        {
         "domain": {
          "x": [
           0.624,
           0.792
          ],
          "y": [
           0,
           1
          ]
         },
         "hole": 0.4,
         "hoverinfo": "label+percent+name",
         "labels": [
          "Correct",
          "Partially correct",
          "Incorrect"
         ],
         "marker": {
          "colors": [
           "green",
           "orange",
           "red"
          ]
         },
         "name": "CellXGene",
         "type": "pie",
         "values": [
          9,
          30,
          11
         ]
        },
        {
         "domain": {
          "x": [
           0.832,
           1
          ],
          "y": [
           0,
           1
          ]
         },
         "hole": 0.4,
         "hoverinfo": "label+percent+name",
         "labels": [
          "Correct",
          "Partially correct",
          "Incorrect"
         ],
         "marker": {
          "colors": [
           "green",
           "orange",
           "red"
          ]
         },
         "name": "Tabula Muris",
         "type": "pie",
         "values": [
          8,
          30,
          12
         ]
        }
       ],
       "layout": {
        "annotations": [
         {
          "font": {
           "size": 18
          },
          "showarrow": false,
          "text": "FACS",
          "x": 0.08399999999999999,
          "xanchor": "center",
          "y": 0.5
         },
         {
          "font": {
           "size": 14
          },
          "showarrow": false,
          "text": "Droplet",
          "x": 0.292,
          "xanchor": "center",
          "y": 0.5
         },
         {
          "font": {
           "size": 12
          },
          "showarrow": false,
          "text": "PangLao",
          "x": 0.5,
          "xanchor": "center",
          "y": 0.5
         },
         {
          "font": {
           "size": 20
          },
          "showarrow": false,
          "text": "CXG",
          "x": 0.708,
          "xanchor": "center",
          "y": 0.5
         },
         {
          "font": {
           "size": 20
          },
          "showarrow": false,
          "text": "TM",
          "x": 0.9159999999999999,
          "xanchor": "center",
          "y": 0.5
         }
        ],
        "template": {
         "data": {
          "bar": [
           {
            "error_x": {
             "color": "#2a3f5f"
            },
            "error_y": {
             "color": "#2a3f5f"
            },
            "marker": {
             "line": {
              "color": "#E5ECF6",
              "width": 0.5
             },
             "pattern": {
              "fillmode": "overlay",
              "size": 10,
              "solidity": 0.2
             }
            },
            "type": "bar"
           }
          ],
          "barpolar": [
           {
            "marker": {
             "line": {
              "color": "#E5ECF6",
              "width": 0.5
             },
             "pattern": {
              "fillmode": "overlay",
              "size": 10,
              "solidity": 0.2
             }
            },
            "type": "barpolar"
           }
          ],
          "carpet": [
           {
            "aaxis": {
             "endlinecolor": "#2a3f5f",
             "gridcolor": "white",
             "linecolor": "white",
             "minorgridcolor": "white",
             "startlinecolor": "#2a3f5f"
            },
            "baxis": {
             "endlinecolor": "#2a3f5f",
             "gridcolor": "white",
             "linecolor": "white",
             "minorgridcolor": "white",
             "startlinecolor": "#2a3f5f"
            },
            "type": "carpet"
           }
          ],
          "choropleth": [
           {
            "colorbar": {
             "outlinewidth": 0,
             "ticks": ""
            },
            "type": "choropleth"
           }
          ],
          "contour": [
           {
            "colorbar": {
             "outlinewidth": 0,
             "ticks": ""
            },
            "colorscale": [
             [
              0,
              "#0d0887"
             ],
             [
              0.1111111111111111,
              "#46039f"
             ],
             [
              0.2222222222222222,
              "#7201a8"
             ],
             [
              0.3333333333333333,
              "#9c179e"
             ],
             [
              0.4444444444444444,
              "#bd3786"
             ],
             [
              0.5555555555555556,
              "#d8576b"
             ],
             [
              0.6666666666666666,
              "#ed7953"
             ],
             [
              0.7777777777777778,
              "#fb9f3a"
             ],
             [
              0.8888888888888888,
              "#fdca26"
             ],
             [
              1,
              "#f0f921"
             ]
            ],
            "type": "contour"
           }
          ],
          "contourcarpet": [
           {
            "colorbar": {
             "outlinewidth": 0,
             "ticks": ""
            },
            "type": "contourcarpet"
           }
          ],
          "heatmap": [
           {
            "colorbar": {
             "outlinewidth": 0,
             "ticks": ""
            },
            "colorscale": [
             [
              0,
              "#0d0887"
             ],
             [
              0.1111111111111111,
              "#46039f"
             ],
             [
              0.2222222222222222,
              "#7201a8"
             ],
             [
              0.3333333333333333,
              "#9c179e"
             ],
             [
              0.4444444444444444,
              "#bd3786"
             ],
             [
              0.5555555555555556,
              "#d8576b"
             ],
             [
              0.6666666666666666,
              "#ed7953"
             ],
             [
              0.7777777777777778,
              "#fb9f3a"
             ],
             [
              0.8888888888888888,
              "#fdca26"
             ],
             [
              1,
              "#f0f921"
             ]
            ],
            "type": "heatmap"
           }
          ],
          "histogram": [
           {
            "marker": {
             "pattern": {
              "fillmode": "overlay",
              "size": 10,
              "solidity": 0.2
             }
            },
            "type": "histogram"
           }
          ],
          "histogram2d": [
           {
            "colorbar": {
             "outlinewidth": 0,
             "ticks": ""
            },
            "colorscale": [
             [
              0,
              "#0d0887"
             ],
             [
              0.1111111111111111,
              "#46039f"
             ],
             [
              0.2222222222222222,
              "#7201a8"
             ],
             [
              0.3333333333333333,
              "#9c179e"
             ],
             [
              0.4444444444444444,
              "#bd3786"
             ],
             [
              0.5555555555555556,
              "#d8576b"
             ],
             [
              0.6666666666666666,
              "#ed7953"
             ],
             [
              0.7777777777777778,
              "#fb9f3a"
             ],
             [
              0.8888888888888888,
              "#fdca26"
             ],
             [
              1,
              "#f0f921"
             ]
            ],
            "type": "histogram2d"
           }
          ],
          "histogram2dcontour": [
           {
            "colorbar": {
             "outlinewidth": 0,
             "ticks": ""
            },
            "colorscale": [
             [
              0,
              "#0d0887"
             ],
             [
              0.1111111111111111,
              "#46039f"
             ],
             [
              0.2222222222222222,
              "#7201a8"
             ],
             [
              0.3333333333333333,
              "#9c179e"
             ],
             [
              0.4444444444444444,
              "#bd3786"
             ],
             [
              0.5555555555555556,
              "#d8576b"
             ],
             [
              0.6666666666666666,
              "#ed7953"
             ],
             [
              0.7777777777777778,
              "#fb9f3a"
             ],
             [
              0.8888888888888888,
              "#fdca26"
             ],
             [
              1,
              "#f0f921"
             ]
            ],
            "type": "histogram2dcontour"
           }
          ],
          "mesh3d": [
           {
            "colorbar": {
             "outlinewidth": 0,
             "ticks": ""
            },
            "type": "mesh3d"
           }
          ],
          "parcoords": [
           {
            "line": {
             "colorbar": {
              "outlinewidth": 0,
              "ticks": ""
             }
            },
            "type": "parcoords"
           }
          ],
          "pie": [
           {
            "automargin": true,
            "type": "pie"
           }
          ],
          "scatter": [
           {
            "fillpattern": {
             "fillmode": "overlay",
             "size": 10,
             "solidity": 0.2
            },
            "type": "scatter"
           }
          ],
          "scatter3d": [
           {
            "line": {
             "colorbar": {
              "outlinewidth": 0,
              "ticks": ""
             }
            },
            "marker": {
             "colorbar": {
              "outlinewidth": 0,
              "ticks": ""
             }
            },
            "type": "scatter3d"
           }
          ],
          "scattercarpet": [
           {
            "marker": {
             "colorbar": {
              "outlinewidth": 0,
              "ticks": ""
             }
            },
            "type": "scattercarpet"
           }
          ],
          "scattergeo": [
           {
            "marker": {
             "colorbar": {
              "outlinewidth": 0,
              "ticks": ""
             }
            },
            "type": "scattergeo"
           }
          ],
          "scattergl": [
           {
            "marker": {
             "colorbar": {
              "outlinewidth": 0,
              "ticks": ""
             }
            },
            "type": "scattergl"
           }
          ],
          "scattermap": [
           {
            "marker": {
             "colorbar": {
              "outlinewidth": 0,
              "ticks": ""
             }
            },
            "type": "scattermap"
           }
          ],
          "scattermapbox": [
           {
            "marker": {
             "colorbar": {
              "outlinewidth": 0,
              "ticks": ""
             }
            },
            "type": "scattermapbox"
           }
          ],
          "scatterpolar": [
           {
            "marker": {
             "colorbar": {
              "outlinewidth": 0,
              "ticks": ""
             }
            },
            "type": "scatterpolar"
           }
          ],
          "scatterpolargl": [
           {
            "marker": {
             "colorbar": {
              "outlinewidth": 0,
              "ticks": ""
             }
            },
            "type": "scatterpolargl"
           }
          ],
          "scatterternary": [
           {
            "marker": {
             "colorbar": {
              "outlinewidth": 0,
              "ticks": ""
             }
            },
            "type": "scatterternary"
           }
          ],
          "surface": [
           {
            "colorbar": {
             "outlinewidth": 0,
             "ticks": ""
            },
            "colorscale": [
             [
              0,
              "#0d0887"
             ],
             [
              0.1111111111111111,
              "#46039f"
             ],
             [
              0.2222222222222222,
              "#7201a8"
             ],
             [
              0.3333333333333333,
              "#9c179e"
             ],
             [
              0.4444444444444444,
              "#bd3786"
             ],
             [
              0.5555555555555556,
              "#d8576b"
             ],
             [
              0.6666666666666666,
              "#ed7953"
             ],
             [
              0.7777777777777778,
              "#fb9f3a"
             ],
             [
              0.8888888888888888,
              "#fdca26"
             ],
             [
              1,
              "#f0f921"
             ]
            ],
            "type": "surface"
           }
          ],
          "table": [
           {
            "cells": {
             "fill": {
              "color": "#EBF0F8"
             },
             "line": {
              "color": "white"
             }
            },
            "header": {
             "fill": {
              "color": "#C8D4E3"
             },
             "line": {
              "color": "white"
             }
            },
            "type": "table"
           }
          ]
         },
         "layout": {
          "annotationdefaults": {
           "arrowcolor": "#2a3f5f",
           "arrowhead": 0,
           "arrowwidth": 1
          },
          "autotypenumbers": "strict",
          "coloraxis": {
           "colorbar": {
            "outlinewidth": 0,
            "ticks": ""
           }
          },
          "colorscale": {
           "diverging": [
            [
             0,
             "#8e0152"
            ],
            [
             0.1,
             "#c51b7d"
            ],
            [
             0.2,
             "#de77ae"
            ],
            [
             0.3,
             "#f1b6da"
            ],
            [
             0.4,
             "#fde0ef"
            ],
            [
             0.5,
             "#f7f7f7"
            ],
            [
             0.6,
             "#e6f5d0"
            ],
            [
             0.7,
             "#b8e186"
            ],
            [
             0.8,
             "#7fbc41"
            ],
            [
             0.9,
             "#4d9221"
            ],
            [
             1,
             "#276419"
            ]
           ],
           "sequential": [
            [
             0,
             "#0d0887"
            ],
            [
             0.1111111111111111,
             "#46039f"
            ],
            [
             0.2222222222222222,
             "#7201a8"
            ],
            [
             0.3333333333333333,
             "#9c179e"
            ],
            [
             0.4444444444444444,
             "#bd3786"
            ],
            [
             0.5555555555555556,
             "#d8576b"
            ],
            [
             0.6666666666666666,
             "#ed7953"
            ],
            [
             0.7777777777777778,
             "#fb9f3a"
            ],
            [
             0.8888888888888888,
             "#fdca26"
            ],
            [
             1,
             "#f0f921"
            ]
           ],
           "sequentialminus": [
            [
             0,
             "#0d0887"
            ],
            [
             0.1111111111111111,
             "#46039f"
            ],
            [
             0.2222222222222222,
             "#7201a8"
            ],
            [
             0.3333333333333333,
             "#9c179e"
            ],
            [
             0.4444444444444444,
             "#bd3786"
            ],
            [
             0.5555555555555556,
             "#d8576b"
            ],
            [
             0.6666666666666666,
             "#ed7953"
            ],
            [
             0.7777777777777778,
             "#fb9f3a"
            ],
            [
             0.8888888888888888,
             "#fdca26"
            ],
            [
             1,
             "#f0f921"
            ]
           ]
          },
          "colorway": [
           "#636efa",
           "#EF553B",
           "#00cc96",
           "#ab63fa",
           "#FFA15A",
           "#19d3f3",
           "#FF6692",
           "#B6E880",
           "#FF97FF",
           "#FECB52"
          ],
          "font": {
           "color": "#2a3f5f"
          },
          "geo": {
           "bgcolor": "white",
           "lakecolor": "white",
           "landcolor": "#E5ECF6",
           "showlakes": true,
           "showland": true,
           "subunitcolor": "white"
          },
          "hoverlabel": {
           "align": "left"
          },
          "hovermode": "closest",
          "mapbox": {
           "style": "light"
          },
          "paper_bgcolor": "white",
          "plot_bgcolor": "#E5ECF6",
          "polar": {
           "angularaxis": {
            "gridcolor": "white",
            "linecolor": "white",
            "ticks": ""
           },
           "bgcolor": "#E5ECF6",
           "radialaxis": {
            "gridcolor": "white",
            "linecolor": "white",
            "ticks": ""
           }
          },
          "scene": {
           "xaxis": {
            "backgroundcolor": "#E5ECF6",
            "gridcolor": "white",
            "gridwidth": 2,
            "linecolor": "white",
            "showbackground": true,
            "ticks": "",
            "zerolinecolor": "white"
           },
           "yaxis": {
            "backgroundcolor": "#E5ECF6",
            "gridcolor": "white",
            "gridwidth": 2,
            "linecolor": "white",
            "showbackground": true,
            "ticks": "",
            "zerolinecolor": "white"
           },
           "zaxis": {
            "backgroundcolor": "#E5ECF6",
            "gridcolor": "white",
            "gridwidth": 2,
            "linecolor": "white",
            "showbackground": true,
            "ticks": "",
            "zerolinecolor": "white"
           }
          },
          "shapedefaults": {
           "line": {
            "color": "#2a3f5f"
           }
          },
          "ternary": {
           "aaxis": {
            "gridcolor": "white",
            "linecolor": "white",
            "ticks": ""
           },
           "baxis": {
            "gridcolor": "white",
            "linecolor": "white",
            "ticks": ""
           },
           "bgcolor": "#E5ECF6",
           "caxis": {
            "gridcolor": "white",
            "linecolor": "white",
            "ticks": ""
           }
          },
          "title": {
           "x": 0.05
          },
          "xaxis": {
           "automargin": true,
           "gridcolor": "white",
           "linecolor": "white",
           "ticks": "",
           "title": {
            "standoff": 15
           },
           "zerolinecolor": "white",
           "zerolinewidth": 2
          },
          "yaxis": {
           "automargin": true,
           "gridcolor": "white",
           "linecolor": "white",
           "ticks": "",
           "title": {
            "standoff": 15
           },
           "zerolinecolor": "white",
           "zerolinewidth": 2
          }
         }
        }
       }
      }
     },
     "metadata": {},
     "output_type": "display_data"
    }
   ],
   "source": [
    "# Figure 1b - smae results but in pie chart forms\n",
    "\n",
    "labels = [\"Correct\", \"Partially correct\", \"Incorrect\"]\n",
    "\n",
    "# Create subplots: use 'domain' type for Pie subplot\n",
    "fig = make_subplots(rows=1, cols=5, specs=[[{'type':'domain'}, \n",
    "                                            {'type':'domain'},\n",
    "                                            {'type':'domain'},\n",
    "                                            {'type':'domain'},\n",
    "                                            {'type':'domain'}]])\n",
    "fig.add_trace(go.Pie(labels=labels, values=[3, 12, 35], name=\"mATLAS Droplet\"),\n",
    "              1, 1)\n",
    "fig.add_trace(go.Pie(labels=labels, values=[10, 31, 9], name=\"mATLAS FACS\"),\n",
    "              1, 2)\n",
    "fig.add_trace(go.Pie(labels=labels, values=[5, 35, 10], name=\"PangLao\"),\n",
    "              1, 3)\n",
    "fig.add_trace(go.Pie(labels=labels, values=[9, 30, 11], name=\"CellXGene\"),\n",
    "              1, 4)\n",
    "fig.add_trace(go.Pie(labels=labels, values=[8, 30, 12], name=\"Tabula Muris\"),\n",
    "              1, 5)\n",
    "\n",
    "# Use `hole` to create a donut-like pie chart\n",
    "fig.update_traces(hole=.4, hoverinfo=\"label+percent+name\", \n",
    "                  marker=dict(colors=['green', 'orange', 'red']))\n",
    "\n",
    "fig.update_layout(\n",
    "    # Add annotations in the center of the donut pies.\n",
    "    annotations=[dict(text='FACS', x=sum(fig.get_subplot(1, 1).x) / 2, y=0.5,\n",
    "                      font_size=18, showarrow=False, xanchor=\"center\"),\n",
    "                 dict(text='Droplet', x=sum(fig.get_subplot(1, 2).x) / 2, y=0.5,\n",
    "                      font_size=14, showarrow=False, xanchor=\"center\"),\n",
    "                 dict(text='PangLao', x=sum(fig.get_subplot(1, 3).x) / 2, y=0.5,\n",
    "                 font_size=12, showarrow=False, xanchor=\"center\"),\n",
    "                 dict(text='CXG', x=sum(fig.get_subplot(1, 4).x) / 2, y=0.5,\n",
    "                 font_size=20, showarrow=False, xanchor=\"center\"),\n",
    "                 dict(text='TM', x=sum(fig.get_subplot(1, 5).x) / 2, y=0.5,\n",
    "                 font_size=20, showarrow=False, xanchor=\"center\")])\n",
    "fig.show()"
   ]
  },
  {
   "cell_type": "code",
   "execution_count": 16,
   "metadata": {},
   "outputs": [
    {
     "data": {
      "application/vnd.plotly.v1+json": {
       "config": {
        "plotlyServerURL": "https://plot.ly"
       },
       "data": [
        {
         "marker": {
          "color": "green"
         },
         "name": "Correct",
         "type": "bar",
         "x": [
          "scCATCH",
          "scTYPE",
          "scMayoMap"
         ],
         "y": [
          13,
          17,
          12
         ]
        },
        {
         "marker": {
          "color": "orange"
         },
         "name": "Partially correct",
         "type": "bar",
         "x": [
          "scCATCH",
          "scTYPE",
          "scMayoMap"
         ],
         "y": [
          8,
          21,
          29
         ]
        },
        {
         "marker": {
          "color": "red"
         },
         "name": "Incorrect",
         "type": "bar",
         "x": [
          "scCATCH",
          "scTYPE",
          "scMayoMap"
         ],
         "y": [
          29,
          12,
          9
         ]
        }
       ],
       "layout": {
        "barcornerradius": 5,
        "barmode": "group",
        "template": {
         "data": {
          "scatter": [
           {
            "type": "scatter"
           }
          ]
         }
        },
        "title": {
         "font": {
          "size": 16
         },
         "text": "Annotation results for 3 different marker-based annotation methods",
         "x": 0.5,
         "xanchor": "center",
         "y": 0.95,
         "yanchor": "middle"
        },
        "yaxis": {
         "title": {
          "font": {
           "size": 14
          },
          "text": "Nb of clusters"
         }
        }
       }
      }
     },
     "metadata": {},
     "output_type": "display_data"
    }
   ],
   "source": [
    "# Figure 2 - show summary results for marker-based annotation\n",
    "# Simple barchart \n",
    "\n",
    "ref_datasets=['scCATCH', 'scTYPE', 'scMayoMap']\n",
    "y1 = [3, 10, 5, 9, 8]\n",
    "y2 = [12, 31, 35, 30, 30]\n",
    "y3 = [12, 31, 35, 30, 30]\n",
    "\n",
    "fig = go.Figure(data=[\n",
    "    go.Bar(name='Correct', x=ref_datasets, y=[13, 17, 12], marker_color='green'),\n",
    "    go.Bar(name='Partially correct', x=ref_datasets, y=[8, 21, 29], marker_color='orange'),\n",
    "    go.Bar(name='Incorrect', x=ref_datasets, y=[29, 12, 9], marker_color='red'),\n",
    "], layout=dict(\n",
    "        barcornerradius=5,\n",
    "    ),)\n",
    "# Change the bar mode\n",
    "fig.update_layout(barmode='group', \n",
    "                  template='none',\n",
    "                  yaxis = dict(title='Nb of clusters',\n",
    "                               title_font = dict(size=14)),\n",
    "                  title = dict(text = 'Annotation results for 3 different marker-based annotation methods',\n",
    "                               font=dict(size=16),\n",
    "                               xanchor='center',\n",
    "                               yanchor='middle',\n",
    "                               x=0.5,\n",
    "                               y=0.95))\n",
    "fig.show()\n",
    "pio.write_image(fig, '../../PNG_results/sbm_barchart_markerbased_results.png')"
   ]
  },
  {
   "cell_type": "code",
   "execution_count": 30,
   "metadata": {},
   "outputs": [
    {
     "data": {
      "application/vnd.plotly.v1+json": {
       "config": {
        "plotlyServerURL": "https://plot.ly"
       },
       "data": [
        {
         "domain": {
          "x": [
           0,
           0.2888888888888889
          ],
          "y": [
           0,
           1
          ]
         },
         "hole": 0.4,
         "hoverinfo": "label+percent+name",
         "labels": [
          "Correct",
          "Partially correct",
          "Incorrect"
         ],
         "marker": {
          "colors": [
           "green",
           "orange",
           "red"
          ]
         },
         "name": "scCATCH",
         "type": "pie",
         "values": [
          13,
          8,
          29
         ]
        },
        {
         "domain": {
          "x": [
           0.35555555555555557,
           0.6444444444444445
          ],
          "y": [
           0,
           1
          ]
         },
         "hole": 0.4,
         "hoverinfo": "label+percent+name",
         "labels": [
          "Correct",
          "Partially correct",
          "Incorrect"
         ],
         "marker": {
          "colors": [
           "green",
           "orange",
           "red"
          ]
         },
         "name": "scTYPE",
         "type": "pie",
         "values": [
          17,
          21,
          12
         ]
        },
        {
         "domain": {
          "x": [
           0.7111111111111111,
           1
          ],
          "y": [
           0,
           1
          ]
         },
         "hole": 0.4,
         "hoverinfo": "label+percent+name",
         "labels": [
          "Correct",
          "Partially correct",
          "Incorrect"
         ],
         "marker": {
          "colors": [
           "green",
           "orange",
           "red"
          ]
         },
         "name": "scMayoMap",
         "type": "pie",
         "values": [
          12,
          29,
          9
         ]
        }
       ],
       "layout": {
        "annotations": [
         {
          "font": {
           "size": 14
          },
          "showarrow": false,
          "text": "scCATCH",
          "x": 0.14444444444444446,
          "xanchor": "center",
          "y": 0.5
         },
         {
          "font": {
           "size": 14
          },
          "showarrow": false,
          "text": "scTYPE",
          "x": 0.5,
          "xanchor": "center",
          "y": 0.5
         },
         {
          "font": {
           "size": 20
          },
          "showarrow": false,
          "text": "scMM",
          "x": 0.8555555555555556,
          "xanchor": "center",
          "y": 0.5
         }
        ],
        "template": {
         "data": {
          "bar": [
           {
            "error_x": {
             "color": "#2a3f5f"
            },
            "error_y": {
             "color": "#2a3f5f"
            },
            "marker": {
             "line": {
              "color": "#E5ECF6",
              "width": 0.5
             },
             "pattern": {
              "fillmode": "overlay",
              "size": 10,
              "solidity": 0.2
             }
            },
            "type": "bar"
           }
          ],
          "barpolar": [
           {
            "marker": {
             "line": {
              "color": "#E5ECF6",
              "width": 0.5
             },
             "pattern": {
              "fillmode": "overlay",
              "size": 10,
              "solidity": 0.2
             }
            },
            "type": "barpolar"
           }
          ],
          "carpet": [
           {
            "aaxis": {
             "endlinecolor": "#2a3f5f",
             "gridcolor": "white",
             "linecolor": "white",
             "minorgridcolor": "white",
             "startlinecolor": "#2a3f5f"
            },
            "baxis": {
             "endlinecolor": "#2a3f5f",
             "gridcolor": "white",
             "linecolor": "white",
             "minorgridcolor": "white",
             "startlinecolor": "#2a3f5f"
            },
            "type": "carpet"
           }
          ],
          "choropleth": [
           {
            "colorbar": {
             "outlinewidth": 0,
             "ticks": ""
            },
            "type": "choropleth"
           }
          ],
          "contour": [
           {
            "colorbar": {
             "outlinewidth": 0,
             "ticks": ""
            },
            "colorscale": [
             [
              0,
              "#0d0887"
             ],
             [
              0.1111111111111111,
              "#46039f"
             ],
             [
              0.2222222222222222,
              "#7201a8"
             ],
             [
              0.3333333333333333,
              "#9c179e"
             ],
             [
              0.4444444444444444,
              "#bd3786"
             ],
             [
              0.5555555555555556,
              "#d8576b"
             ],
             [
              0.6666666666666666,
              "#ed7953"
             ],
             [
              0.7777777777777778,
              "#fb9f3a"
             ],
             [
              0.8888888888888888,
              "#fdca26"
             ],
             [
              1,
              "#f0f921"
             ]
            ],
            "type": "contour"
           }
          ],
          "contourcarpet": [
           {
            "colorbar": {
             "outlinewidth": 0,
             "ticks": ""
            },
            "type": "contourcarpet"
           }
          ],
          "heatmap": [
           {
            "colorbar": {
             "outlinewidth": 0,
             "ticks": ""
            },
            "colorscale": [
             [
              0,
              "#0d0887"
             ],
             [
              0.1111111111111111,
              "#46039f"
             ],
             [
              0.2222222222222222,
              "#7201a8"
             ],
             [
              0.3333333333333333,
              "#9c179e"
             ],
             [
              0.4444444444444444,
              "#bd3786"
             ],
             [
              0.5555555555555556,
              "#d8576b"
             ],
             [
              0.6666666666666666,
              "#ed7953"
             ],
             [
              0.7777777777777778,
              "#fb9f3a"
             ],
             [
              0.8888888888888888,
              "#fdca26"
             ],
             [
              1,
              "#f0f921"
             ]
            ],
            "type": "heatmap"
           }
          ],
          "histogram": [
           {
            "marker": {
             "pattern": {
              "fillmode": "overlay",
              "size": 10,
              "solidity": 0.2
             }
            },
            "type": "histogram"
           }
          ],
          "histogram2d": [
           {
            "colorbar": {
             "outlinewidth": 0,
             "ticks": ""
            },
            "colorscale": [
             [
              0,
              "#0d0887"
             ],
             [
              0.1111111111111111,
              "#46039f"
             ],
             [
              0.2222222222222222,
              "#7201a8"
             ],
             [
              0.3333333333333333,
              "#9c179e"
             ],
             [
              0.4444444444444444,
              "#bd3786"
             ],
             [
              0.5555555555555556,
              "#d8576b"
             ],
             [
              0.6666666666666666,
              "#ed7953"
             ],
             [
              0.7777777777777778,
              "#fb9f3a"
             ],
             [
              0.8888888888888888,
              "#fdca26"
             ],
             [
              1,
              "#f0f921"
             ]
            ],
            "type": "histogram2d"
           }
          ],
          "histogram2dcontour": [
           {
            "colorbar": {
             "outlinewidth": 0,
             "ticks": ""
            },
            "colorscale": [
             [
              0,
              "#0d0887"
             ],
             [
              0.1111111111111111,
              "#46039f"
             ],
             [
              0.2222222222222222,
              "#7201a8"
             ],
             [
              0.3333333333333333,
              "#9c179e"
             ],
             [
              0.4444444444444444,
              "#bd3786"
             ],
             [
              0.5555555555555556,
              "#d8576b"
             ],
             [
              0.6666666666666666,
              "#ed7953"
             ],
             [
              0.7777777777777778,
              "#fb9f3a"
             ],
             [
              0.8888888888888888,
              "#fdca26"
             ],
             [
              1,
              "#f0f921"
             ]
            ],
            "type": "histogram2dcontour"
           }
          ],
          "mesh3d": [
           {
            "colorbar": {
             "outlinewidth": 0,
             "ticks": ""
            },
            "type": "mesh3d"
           }
          ],
          "parcoords": [
           {
            "line": {
             "colorbar": {
              "outlinewidth": 0,
              "ticks": ""
             }
            },
            "type": "parcoords"
           }
          ],
          "pie": [
           {
            "automargin": true,
            "type": "pie"
           }
          ],
          "scatter": [
           {
            "fillpattern": {
             "fillmode": "overlay",
             "size": 10,
             "solidity": 0.2
            },
            "type": "scatter"
           }
          ],
          "scatter3d": [
           {
            "line": {
             "colorbar": {
              "outlinewidth": 0,
              "ticks": ""
             }
            },
            "marker": {
             "colorbar": {
              "outlinewidth": 0,
              "ticks": ""
             }
            },
            "type": "scatter3d"
           }
          ],
          "scattercarpet": [
           {
            "marker": {
             "colorbar": {
              "outlinewidth": 0,
              "ticks": ""
             }
            },
            "type": "scattercarpet"
           }
          ],
          "scattergeo": [
           {
            "marker": {
             "colorbar": {
              "outlinewidth": 0,
              "ticks": ""
             }
            },
            "type": "scattergeo"
           }
          ],
          "scattergl": [
           {
            "marker": {
             "colorbar": {
              "outlinewidth": 0,
              "ticks": ""
             }
            },
            "type": "scattergl"
           }
          ],
          "scattermap": [
           {
            "marker": {
             "colorbar": {
              "outlinewidth": 0,
              "ticks": ""
             }
            },
            "type": "scattermap"
           }
          ],
          "scattermapbox": [
           {
            "marker": {
             "colorbar": {
              "outlinewidth": 0,
              "ticks": ""
             }
            },
            "type": "scattermapbox"
           }
          ],
          "scatterpolar": [
           {
            "marker": {
             "colorbar": {
              "outlinewidth": 0,
              "ticks": ""
             }
            },
            "type": "scatterpolar"
           }
          ],
          "scatterpolargl": [
           {
            "marker": {
             "colorbar": {
              "outlinewidth": 0,
              "ticks": ""
             }
            },
            "type": "scatterpolargl"
           }
          ],
          "scatterternary": [
           {
            "marker": {
             "colorbar": {
              "outlinewidth": 0,
              "ticks": ""
             }
            },
            "type": "scatterternary"
           }
          ],
          "surface": [
           {
            "colorbar": {
             "outlinewidth": 0,
             "ticks": ""
            },
            "colorscale": [
             [
              0,
              "#0d0887"
             ],
             [
              0.1111111111111111,
              "#46039f"
             ],
             [
              0.2222222222222222,
              "#7201a8"
             ],
             [
              0.3333333333333333,
              "#9c179e"
             ],
             [
              0.4444444444444444,
              "#bd3786"
             ],
             [
              0.5555555555555556,
              "#d8576b"
             ],
             [
              0.6666666666666666,
              "#ed7953"
             ],
             [
              0.7777777777777778,
              "#fb9f3a"
             ],
             [
              0.8888888888888888,
              "#fdca26"
             ],
             [
              1,
              "#f0f921"
             ]
            ],
            "type": "surface"
           }
          ],
          "table": [
           {
            "cells": {
             "fill": {
              "color": "#EBF0F8"
             },
             "line": {
              "color": "white"
             }
            },
            "header": {
             "fill": {
              "color": "#C8D4E3"
             },
             "line": {
              "color": "white"
             }
            },
            "type": "table"
           }
          ]
         },
         "layout": {
          "annotationdefaults": {
           "arrowcolor": "#2a3f5f",
           "arrowhead": 0,
           "arrowwidth": 1
          },
          "autotypenumbers": "strict",
          "coloraxis": {
           "colorbar": {
            "outlinewidth": 0,
            "ticks": ""
           }
          },
          "colorscale": {
           "diverging": [
            [
             0,
             "#8e0152"
            ],
            [
             0.1,
             "#c51b7d"
            ],
            [
             0.2,
             "#de77ae"
            ],
            [
             0.3,
             "#f1b6da"
            ],
            [
             0.4,
             "#fde0ef"
            ],
            [
             0.5,
             "#f7f7f7"
            ],
            [
             0.6,
             "#e6f5d0"
            ],
            [
             0.7,
             "#b8e186"
            ],
            [
             0.8,
             "#7fbc41"
            ],
            [
             0.9,
             "#4d9221"
            ],
            [
             1,
             "#276419"
            ]
           ],
           "sequential": [
            [
             0,
             "#0d0887"
            ],
            [
             0.1111111111111111,
             "#46039f"
            ],
            [
             0.2222222222222222,
             "#7201a8"
            ],
            [
             0.3333333333333333,
             "#9c179e"
            ],
            [
             0.4444444444444444,
             "#bd3786"
            ],
            [
             0.5555555555555556,
             "#d8576b"
            ],
            [
             0.6666666666666666,
             "#ed7953"
            ],
            [
             0.7777777777777778,
             "#fb9f3a"
            ],
            [
             0.8888888888888888,
             "#fdca26"
            ],
            [
             1,
             "#f0f921"
            ]
           ],
           "sequentialminus": [
            [
             0,
             "#0d0887"
            ],
            [
             0.1111111111111111,
             "#46039f"
            ],
            [
             0.2222222222222222,
             "#7201a8"
            ],
            [
             0.3333333333333333,
             "#9c179e"
            ],
            [
             0.4444444444444444,
             "#bd3786"
            ],
            [
             0.5555555555555556,
             "#d8576b"
            ],
            [
             0.6666666666666666,
             "#ed7953"
            ],
            [
             0.7777777777777778,
             "#fb9f3a"
            ],
            [
             0.8888888888888888,
             "#fdca26"
            ],
            [
             1,
             "#f0f921"
            ]
           ]
          },
          "colorway": [
           "#636efa",
           "#EF553B",
           "#00cc96",
           "#ab63fa",
           "#FFA15A",
           "#19d3f3",
           "#FF6692",
           "#B6E880",
           "#FF97FF",
           "#FECB52"
          ],
          "font": {
           "color": "#2a3f5f"
          },
          "geo": {
           "bgcolor": "white",
           "lakecolor": "white",
           "landcolor": "#E5ECF6",
           "showlakes": true,
           "showland": true,
           "subunitcolor": "white"
          },
          "hoverlabel": {
           "align": "left"
          },
          "hovermode": "closest",
          "mapbox": {
           "style": "light"
          },
          "paper_bgcolor": "white",
          "plot_bgcolor": "#E5ECF6",
          "polar": {
           "angularaxis": {
            "gridcolor": "white",
            "linecolor": "white",
            "ticks": ""
           },
           "bgcolor": "#E5ECF6",
           "radialaxis": {
            "gridcolor": "white",
            "linecolor": "white",
            "ticks": ""
           }
          },
          "scene": {
           "xaxis": {
            "backgroundcolor": "#E5ECF6",
            "gridcolor": "white",
            "gridwidth": 2,
            "linecolor": "white",
            "showbackground": true,
            "ticks": "",
            "zerolinecolor": "white"
           },
           "yaxis": {
            "backgroundcolor": "#E5ECF6",
            "gridcolor": "white",
            "gridwidth": 2,
            "linecolor": "white",
            "showbackground": true,
            "ticks": "",
            "zerolinecolor": "white"
           },
           "zaxis": {
            "backgroundcolor": "#E5ECF6",
            "gridcolor": "white",
            "gridwidth": 2,
            "linecolor": "white",
            "showbackground": true,
            "ticks": "",
            "zerolinecolor": "white"
           }
          },
          "shapedefaults": {
           "line": {
            "color": "#2a3f5f"
           }
          },
          "ternary": {
           "aaxis": {
            "gridcolor": "white",
            "linecolor": "white",
            "ticks": ""
           },
           "baxis": {
            "gridcolor": "white",
            "linecolor": "white",
            "ticks": ""
           },
           "bgcolor": "#E5ECF6",
           "caxis": {
            "gridcolor": "white",
            "linecolor": "white",
            "ticks": ""
           }
          },
          "title": {
           "x": 0.05
          },
          "xaxis": {
           "automargin": true,
           "gridcolor": "white",
           "linecolor": "white",
           "ticks": "",
           "title": {
            "standoff": 15
           },
           "zerolinecolor": "white",
           "zerolinewidth": 2
          },
          "yaxis": {
           "automargin": true,
           "gridcolor": "white",
           "linecolor": "white",
           "ticks": "",
           "title": {
            "standoff": 15
           },
           "zerolinecolor": "white",
           "zerolinewidth": 2
          }
         }
        }
       }
      }
     },
     "metadata": {},
     "output_type": "display_data"
    }
   ],
   "source": [
    "# Figure 2b - smae results but in pie chart forms\n",
    "\n",
    "labels = [\"Correct\", \"Partially correct\", \"Incorrect\"]\n",
    "\n",
    "# Create subplots: use 'domain' type for Pie subplot\n",
    "fig = make_subplots(rows=1, cols=3, specs=[[{'type':'domain'}, \n",
    "                                            {'type':'domain'},\n",
    "                                            {'type':'domain'}]])\n",
    "fig.add_trace(go.Pie(labels=labels, values=[13, 8, 29], name=\"scCATCH\"),\n",
    "              1, 1)\n",
    "fig.add_trace(go.Pie(labels=labels, values=[17, 21, 12], name=\"scTYPE\"),\n",
    "              1, 2)\n",
    "fig.add_trace(go.Pie(labels=labels, values=[12, 29, 9], name=\"scMayoMap\"),\n",
    "              1, 3)\n",
    "\n",
    "# Use `hole` to create a donut-like pie chart\n",
    "fig.update_traces(hole=.4, hoverinfo=\"label+percent+name\", \n",
    "                  marker=dict(colors=['green', 'orange', 'red']))\n",
    "\n",
    "fig.update_layout(\n",
    "    # Add annotations in the center of the donut pies.\n",
    "    annotations=[dict(text='scCATCH', x=sum(fig.get_subplot(1, 1).x) / 2, y=0.5,\n",
    "                      font_size=14, showarrow=False, xanchor=\"center\"),\n",
    "                 dict(text='scTYPE', x=sum(fig.get_subplot(1, 2).x) / 2, y=0.5,\n",
    "                      font_size=14, showarrow=False, xanchor=\"center\"),\n",
    "                 dict(text='scMM', x=sum(fig.get_subplot(1, 3).x) / 2, y=0.5,\n",
    "                 font_size=20, showarrow=False, xanchor=\"center\")])\n",
    "\n",
    "fig.show()"
   ]
  },
  {
   "cell_type": "code",
   "execution_count": null,
   "metadata": {},
   "outputs": [],
   "source": []
  },
  {
   "cell_type": "code",
   "execution_count": null,
   "metadata": {},
   "outputs": [
    {
     "data": {
      "application/vnd.plotly.v1+json": {
       "config": {
        "plotlyServerURL": "https://plot.ly"
       },
       "data": [
        {
         "marker": {
          "color": "rgba(255, 170, 0, 0.79)",
          "line": {
           "color": "orange",
           "width": 3
          }
         },
         "name": "Partially correct",
         "orientation": "h",
         "text": [
          "32",
          "34",
          "31",
          "31",
          "19"
         ],
         "textposition": "auto",
         "type": "bar",
         "x": [
          32,
          34,
          31,
          31,
          19
         ],
         "y": [
          "SingleR + MAGIC",
          "SingleR + TM",
          "SingleR",
          "scMAP + TM",
          "scMAP"
         ]
        },
        {
         "marker": {
          "color": "rgba(0, 144, 27, 0.58)",
          "line": {
           "color": "green",
           "width": 3
          }
         },
         "name": "Correct",
         "orientation": "h",
         "text": [
          "11",
          "6",
          "10",
          "7",
          "8"
         ],
         "textposition": "auto",
         "type": "bar",
         "x": [
          11,
          6,
          10,
          7,
          8
         ],
         "y": [
          "SingleR + MAGIC",
          "SingleR + TM",
          "SingleR",
          "scMAP + TM",
          "scMAP"
         ]
        },
        {
         "marker": {
          "color": "red",
          "pattern": {
           "shape": "/"
          }
         },
         "name": "Incorrect",
         "orientation": "h",
         "type": "bar",
         "width": 0.8,
         "x": [
          7,
          10,
          9,
          12,
          23
         ],
         "y": [
          "SingleR + MAGIC",
          "SingleR + TM",
          "SingleR",
          "scMAP + TM",
          "scMAP"
         ]
        }
       ],
       "layout": {
        "barmode": "stack",
        "height": 600,
        "template": {
         "data": {
          "scatter": [
           {
            "type": "scatter"
           }
          ]
         }
        },
        "xaxis": {
         "title": {
          "font": {
           "size": 14
          },
          "text": "Nb of clusters"
         }
        },
        "yaxis": {
         "automargin": true
        }
       }
      }
     },
     "metadata": {},
     "output_type": "display_data"
    }
   ],
   "source": [
    "# Figure 3 - Test different 'add-ons' to see results on sum of correct and partially correct\n",
    "# Horizontal barplot showing : Base SingleR result for the best reference dataset (mATLAS Droplet) + Base scMAP result for mATLAS Droplet\n",
    "# + SingleR result for mATLAS and TM + scMAP for mATLAS and TM + SingleR with MAGIC imputation\n",
    "ref_datasets = ['SingleR + MAGIC', 'SingleR + TM', 'SingleR', 'scMAP + TM', 'scMAP']\n",
    "\n",
    "\n",
    "\n",
    "fig = go.Figure()\n",
    "fig.add_trace(go.Bar(\n",
    "    y=ref_datasets,\n",
    "    x=[32, 34, 31, 31, 19],\n",
    "    name='Partially correct',\n",
    "    orientation='h',\n",
    "    marker=dict(\n",
    "        color='rgba(255, 170, 0, 0.79)',\n",
    "        line=dict(color='orange', width=3)\n",
    "    ),\n",
    "    text = [32, 34, 31, 31, 19],\n",
    "    textposition = 'auto'\n",
    "    ))\n",
    "\n",
    "fig.add_trace(go.Bar(\n",
    "    y=ref_datasets,\n",
    "    x=[11, 6, 10, 7, 8],\n",
    "    name='Correct',\n",
    "    orientation='h',\n",
    "    marker=dict(\n",
    "        color='rgba(0, 144, 27, 0.58)',\n",
    "        line=dict(color='green', width=3)\n",
    "    ),\n",
    "    text = [11, 6, 10, 7, 8],\n",
    "    textposition = 'auto'\n",
    "    ))\n",
    "\n",
    "fig.add_trace(go.Bar(\n",
    "    y=ref_datasets,\n",
    "    x=[7, 10, 9, 12, 23],\n",
    "    name='Incorrect',\n",
    "    orientation='h',\n",
    "    marker=dict(\n",
    "        color='red',\n",
    "        pattern_shape = '/'),\n",
    "    width = 0.8\n",
    "))\n",
    "\n",
    "fig.update_layout(barmode='stack', \n",
    "                  template='none',\n",
    "                  xaxis = dict(\n",
    "                      title='Nb of clusters',\n",
    "                      title_font = dict(size=14)),\n",
    "                  yaxis = dict(automargin=True),\n",
    "                  height=600)\n",
    "fig.show()"
   ]
  },
  {
   "cell_type": "markdown",
   "metadata": {},
   "source": [
    "#### GPTCelltype results vs other methods"
   ]
  },
  {
   "cell_type": "code",
   "execution_count": null,
   "metadata": {},
   "outputs": [],
   "source": [
    "\n"
   ]
  },
  {
   "cell_type": "markdown",
   "metadata": {},
   "source": [
    "### Choroid Plexus results"
   ]
  },
  {
   "cell_type": "code",
   "execution_count": 75,
   "metadata": {},
   "outputs": [
    {
     "data": {
      "application/vnd.plotly.v1+json": {
       "config": {
        "plotlyServerURL": "https://plot.ly"
       },
       "data": [
        {
         "marker": {
          "color": "green"
         },
         "name": "Correct",
         "type": "bar",
         "x": [
          "scCATCH",
          "scTYPE",
          "scMayoMap"
         ],
         "y": [
          10,
          21,
          19
         ]
        },
        {
         "marker": {
          "color": "orange"
         },
         "name": "Partially correct",
         "type": "bar",
         "x": [
          "scCATCH",
          "scTYPE",
          "scMayoMap"
         ],
         "y": [
          4,
          5,
          9
         ]
        },
        {
         "marker": {
          "color": "red"
         },
         "name": "Incorrect",
         "type": "bar",
         "x": [
          "scCATCH",
          "scTYPE",
          "scMayoMap"
         ],
         "y": [
          40,
          28,
          26
         ]
        }
       ],
       "layout": {
        "barcornerradius": 5,
        "barmode": "group",
        "template": {
         "data": {
          "scatter": [
           {
            "type": "scatter"
           }
          ]
         }
        },
        "title": {
         "font": {
          "size": 16
         },
         "text": "Annotation results for 3 different marker-based annotation methods",
         "x": 0.5,
         "xanchor": "center",
         "y": 0.95,
         "yanchor": "middle"
        },
        "yaxis": {
         "title": {
          "font": {
           "size": 14
          },
          "text": "Nb of clusters"
         }
        }
       }
      }
     },
     "metadata": {},
     "output_type": "display_data"
    }
   ],
   "source": [
    "# Figure 4 - show summary results for marker-based annotation\n",
    "# Simple barchart \n",
    "\n",
    "ref_datasets=['scCATCH', 'scTYPE', 'scMayoMap']\n",
    "\n",
    "fig = go.Figure(data=[\n",
    "    go.Bar(name='Correct', x=ref_datasets, y=[10, 21, 19], marker_color='green'),\n",
    "    go.Bar(name='Partially correct', x=ref_datasets, y=[4, 5, 9], marker_color='orange'),\n",
    "    go.Bar(name='Incorrect', x=ref_datasets, y=[40, 28, 26], marker_color='red'),\n",
    "], layout=dict(\n",
    "        barcornerradius=5,\n",
    "    ),)\n",
    "# Change the bar mode\n",
    "fig.update_layout(barmode='group', \n",
    "                  template='none',\n",
    "                  yaxis = dict(title='Nb of clusters',\n",
    "                               title_font = dict(size=14)),\n",
    "                  title = dict(text = 'Annotation results for 3 different marker-based annotation methods',\n",
    "                               font=dict(size=16),\n",
    "                               xanchor='center',\n",
    "                               yanchor='middle',\n",
    "                               x=0.5,\n",
    "                               y=0.95))\n",
    "fig.show()\n",
    "pio.write_image(fig, '../../PNG_results/cp_barchart_markerbased_results.png')"
   ]
  },
  {
   "cell_type": "code",
   "execution_count": 76,
   "metadata": {},
   "outputs": [
    {
     "data": {
      "application/vnd.plotly.v1+json": {
       "config": {
        "plotlyServerURL": "https://plot.ly"
       },
       "data": [
        {
         "domain": {
          "x": [
           0,
           0.2888888888888889
          ],
          "y": [
           0,
           1
          ]
         },
         "hole": 0.4,
         "hoverinfo": "label+percent+name",
         "labels": [
          "Correct",
          "Partially correct",
          "Incorrect"
         ],
         "marker": {
          "colors": [
           "green",
           "orange",
           "red"
          ]
         },
         "name": "scCATCH",
         "type": "pie",
         "values": [
          10,
          4,
          40
         ]
        },
        {
         "domain": {
          "x": [
           0.35555555555555557,
           0.6444444444444445
          ],
          "y": [
           0,
           1
          ]
         },
         "hole": 0.4,
         "hoverinfo": "label+percent+name",
         "labels": [
          "Correct",
          "Partially correct",
          "Incorrect"
         ],
         "marker": {
          "colors": [
           "green",
           "orange",
           "red"
          ]
         },
         "name": "scTYPE",
         "type": "pie",
         "values": [
          21,
          5,
          28
         ]
        },
        {
         "domain": {
          "x": [
           0.7111111111111111,
           1
          ],
          "y": [
           0,
           1
          ]
         },
         "hole": 0.4,
         "hoverinfo": "label+percent+name",
         "labels": [
          "Correct",
          "Partially correct",
          "Incorrect"
         ],
         "marker": {
          "colors": [
           "green",
           "orange",
           "red"
          ]
         },
         "name": "scMayoMap",
         "type": "pie",
         "values": [
          19,
          9,
          26
         ]
        }
       ],
       "layout": {
        "annotations": [
         {
          "font": {
           "size": 14
          },
          "showarrow": false,
          "text": "scCATCH",
          "x": 0.14444444444444446,
          "xanchor": "center",
          "y": 0.5
         },
         {
          "font": {
           "size": 14
          },
          "showarrow": false,
          "text": "scTYPE",
          "x": 0.5,
          "xanchor": "center",
          "y": 0.5
         },
         {
          "font": {
           "size": 20
          },
          "showarrow": false,
          "text": "scMM",
          "x": 0.8555555555555556,
          "xanchor": "center",
          "y": 0.5
         }
        ],
        "template": {
         "data": {
          "bar": [
           {
            "error_x": {
             "color": "#2a3f5f"
            },
            "error_y": {
             "color": "#2a3f5f"
            },
            "marker": {
             "line": {
              "color": "#E5ECF6",
              "width": 0.5
             },
             "pattern": {
              "fillmode": "overlay",
              "size": 10,
              "solidity": 0.2
             }
            },
            "type": "bar"
           }
          ],
          "barpolar": [
           {
            "marker": {
             "line": {
              "color": "#E5ECF6",
              "width": 0.5
             },
             "pattern": {
              "fillmode": "overlay",
              "size": 10,
              "solidity": 0.2
             }
            },
            "type": "barpolar"
           }
          ],
          "carpet": [
           {
            "aaxis": {
             "endlinecolor": "#2a3f5f",
             "gridcolor": "white",
             "linecolor": "white",
             "minorgridcolor": "white",
             "startlinecolor": "#2a3f5f"
            },
            "baxis": {
             "endlinecolor": "#2a3f5f",
             "gridcolor": "white",
             "linecolor": "white",
             "minorgridcolor": "white",
             "startlinecolor": "#2a3f5f"
            },
            "type": "carpet"
           }
          ],
          "choropleth": [
           {
            "colorbar": {
             "outlinewidth": 0,
             "ticks": ""
            },
            "type": "choropleth"
           }
          ],
          "contour": [
           {
            "colorbar": {
             "outlinewidth": 0,
             "ticks": ""
            },
            "colorscale": [
             [
              0,
              "#0d0887"
             ],
             [
              0.1111111111111111,
              "#46039f"
             ],
             [
              0.2222222222222222,
              "#7201a8"
             ],
             [
              0.3333333333333333,
              "#9c179e"
             ],
             [
              0.4444444444444444,
              "#bd3786"
             ],
             [
              0.5555555555555556,
              "#d8576b"
             ],
             [
              0.6666666666666666,
              "#ed7953"
             ],
             [
              0.7777777777777778,
              "#fb9f3a"
             ],
             [
              0.8888888888888888,
              "#fdca26"
             ],
             [
              1,
              "#f0f921"
             ]
            ],
            "type": "contour"
           }
          ],
          "contourcarpet": [
           {
            "colorbar": {
             "outlinewidth": 0,
             "ticks": ""
            },
            "type": "contourcarpet"
           }
          ],
          "heatmap": [
           {
            "colorbar": {
             "outlinewidth": 0,
             "ticks": ""
            },
            "colorscale": [
             [
              0,
              "#0d0887"
             ],
             [
              0.1111111111111111,
              "#46039f"
             ],
             [
              0.2222222222222222,
              "#7201a8"
             ],
             [
              0.3333333333333333,
              "#9c179e"
             ],
             [
              0.4444444444444444,
              "#bd3786"
             ],
             [
              0.5555555555555556,
              "#d8576b"
             ],
             [
              0.6666666666666666,
              "#ed7953"
             ],
             [
              0.7777777777777778,
              "#fb9f3a"
             ],
             [
              0.8888888888888888,
              "#fdca26"
             ],
             [
              1,
              "#f0f921"
             ]
            ],
            "type": "heatmap"
           }
          ],
          "histogram": [
           {
            "marker": {
             "pattern": {
              "fillmode": "overlay",
              "size": 10,
              "solidity": 0.2
             }
            },
            "type": "histogram"
           }
          ],
          "histogram2d": [
           {
            "colorbar": {
             "outlinewidth": 0,
             "ticks": ""
            },
            "colorscale": [
             [
              0,
              "#0d0887"
             ],
             [
              0.1111111111111111,
              "#46039f"
             ],
             [
              0.2222222222222222,
              "#7201a8"
             ],
             [
              0.3333333333333333,
              "#9c179e"
             ],
             [
              0.4444444444444444,
              "#bd3786"
             ],
             [
              0.5555555555555556,
              "#d8576b"
             ],
             [
              0.6666666666666666,
              "#ed7953"
             ],
             [
              0.7777777777777778,
              "#fb9f3a"
             ],
             [
              0.8888888888888888,
              "#fdca26"
             ],
             [
              1,
              "#f0f921"
             ]
            ],
            "type": "histogram2d"
           }
          ],
          "histogram2dcontour": [
           {
            "colorbar": {
             "outlinewidth": 0,
             "ticks": ""
            },
            "colorscale": [
             [
              0,
              "#0d0887"
             ],
             [
              0.1111111111111111,
              "#46039f"
             ],
             [
              0.2222222222222222,
              "#7201a8"
             ],
             [
              0.3333333333333333,
              "#9c179e"
             ],
             [
              0.4444444444444444,
              "#bd3786"
             ],
             [
              0.5555555555555556,
              "#d8576b"
             ],
             [
              0.6666666666666666,
              "#ed7953"
             ],
             [
              0.7777777777777778,
              "#fb9f3a"
             ],
             [
              0.8888888888888888,
              "#fdca26"
             ],
             [
              1,
              "#f0f921"
             ]
            ],
            "type": "histogram2dcontour"
           }
          ],
          "mesh3d": [
           {
            "colorbar": {
             "outlinewidth": 0,
             "ticks": ""
            },
            "type": "mesh3d"
           }
          ],
          "parcoords": [
           {
            "line": {
             "colorbar": {
              "outlinewidth": 0,
              "ticks": ""
             }
            },
            "type": "parcoords"
           }
          ],
          "pie": [
           {
            "automargin": true,
            "type": "pie"
           }
          ],
          "scatter": [
           {
            "fillpattern": {
             "fillmode": "overlay",
             "size": 10,
             "solidity": 0.2
            },
            "type": "scatter"
           }
          ],
          "scatter3d": [
           {
            "line": {
             "colorbar": {
              "outlinewidth": 0,
              "ticks": ""
             }
            },
            "marker": {
             "colorbar": {
              "outlinewidth": 0,
              "ticks": ""
             }
            },
            "type": "scatter3d"
           }
          ],
          "scattercarpet": [
           {
            "marker": {
             "colorbar": {
              "outlinewidth": 0,
              "ticks": ""
             }
            },
            "type": "scattercarpet"
           }
          ],
          "scattergeo": [
           {
            "marker": {
             "colorbar": {
              "outlinewidth": 0,
              "ticks": ""
             }
            },
            "type": "scattergeo"
           }
          ],
          "scattergl": [
           {
            "marker": {
             "colorbar": {
              "outlinewidth": 0,
              "ticks": ""
             }
            },
            "type": "scattergl"
           }
          ],
          "scattermap": [
           {
            "marker": {
             "colorbar": {
              "outlinewidth": 0,
              "ticks": ""
             }
            },
            "type": "scattermap"
           }
          ],
          "scattermapbox": [
           {
            "marker": {
             "colorbar": {
              "outlinewidth": 0,
              "ticks": ""
             }
            },
            "type": "scattermapbox"
           }
          ],
          "scatterpolar": [
           {
            "marker": {
             "colorbar": {
              "outlinewidth": 0,
              "ticks": ""
             }
            },
            "type": "scatterpolar"
           }
          ],
          "scatterpolargl": [
           {
            "marker": {
             "colorbar": {
              "outlinewidth": 0,
              "ticks": ""
             }
            },
            "type": "scatterpolargl"
           }
          ],
          "scatterternary": [
           {
            "marker": {
             "colorbar": {
              "outlinewidth": 0,
              "ticks": ""
             }
            },
            "type": "scatterternary"
           }
          ],
          "surface": [
           {
            "colorbar": {
             "outlinewidth": 0,
             "ticks": ""
            },
            "colorscale": [
             [
              0,
              "#0d0887"
             ],
             [
              0.1111111111111111,
              "#46039f"
             ],
             [
              0.2222222222222222,
              "#7201a8"
             ],
             [
              0.3333333333333333,
              "#9c179e"
             ],
             [
              0.4444444444444444,
              "#bd3786"
             ],
             [
              0.5555555555555556,
              "#d8576b"
             ],
             [
              0.6666666666666666,
              "#ed7953"
             ],
             [
              0.7777777777777778,
              "#fb9f3a"
             ],
             [
              0.8888888888888888,
              "#fdca26"
             ],
             [
              1,
              "#f0f921"
             ]
            ],
            "type": "surface"
           }
          ],
          "table": [
           {
            "cells": {
             "fill": {
              "color": "#EBF0F8"
             },
             "line": {
              "color": "white"
             }
            },
            "header": {
             "fill": {
              "color": "#C8D4E3"
             },
             "line": {
              "color": "white"
             }
            },
            "type": "table"
           }
          ]
         },
         "layout": {
          "annotationdefaults": {
           "arrowcolor": "#2a3f5f",
           "arrowhead": 0,
           "arrowwidth": 1
          },
          "autotypenumbers": "strict",
          "coloraxis": {
           "colorbar": {
            "outlinewidth": 0,
            "ticks": ""
           }
          },
          "colorscale": {
           "diverging": [
            [
             0,
             "#8e0152"
            ],
            [
             0.1,
             "#c51b7d"
            ],
            [
             0.2,
             "#de77ae"
            ],
            [
             0.3,
             "#f1b6da"
            ],
            [
             0.4,
             "#fde0ef"
            ],
            [
             0.5,
             "#f7f7f7"
            ],
            [
             0.6,
             "#e6f5d0"
            ],
            [
             0.7,
             "#b8e186"
            ],
            [
             0.8,
             "#7fbc41"
            ],
            [
             0.9,
             "#4d9221"
            ],
            [
             1,
             "#276419"
            ]
           ],
           "sequential": [
            [
             0,
             "#0d0887"
            ],
            [
             0.1111111111111111,
             "#46039f"
            ],
            [
             0.2222222222222222,
             "#7201a8"
            ],
            [
             0.3333333333333333,
             "#9c179e"
            ],
            [
             0.4444444444444444,
             "#bd3786"
            ],
            [
             0.5555555555555556,
             "#d8576b"
            ],
            [
             0.6666666666666666,
             "#ed7953"
            ],
            [
             0.7777777777777778,
             "#fb9f3a"
            ],
            [
             0.8888888888888888,
             "#fdca26"
            ],
            [
             1,
             "#f0f921"
            ]
           ],
           "sequentialminus": [
            [
             0,
             "#0d0887"
            ],
            [
             0.1111111111111111,
             "#46039f"
            ],
            [
             0.2222222222222222,
             "#7201a8"
            ],
            [
             0.3333333333333333,
             "#9c179e"
            ],
            [
             0.4444444444444444,
             "#bd3786"
            ],
            [
             0.5555555555555556,
             "#d8576b"
            ],
            [
             0.6666666666666666,
             "#ed7953"
            ],
            [
             0.7777777777777778,
             "#fb9f3a"
            ],
            [
             0.8888888888888888,
             "#fdca26"
            ],
            [
             1,
             "#f0f921"
            ]
           ]
          },
          "colorway": [
           "#636efa",
           "#EF553B",
           "#00cc96",
           "#ab63fa",
           "#FFA15A",
           "#19d3f3",
           "#FF6692",
           "#B6E880",
           "#FF97FF",
           "#FECB52"
          ],
          "font": {
           "color": "#2a3f5f"
          },
          "geo": {
           "bgcolor": "white",
           "lakecolor": "white",
           "landcolor": "#E5ECF6",
           "showlakes": true,
           "showland": true,
           "subunitcolor": "white"
          },
          "hoverlabel": {
           "align": "left"
          },
          "hovermode": "closest",
          "mapbox": {
           "style": "light"
          },
          "paper_bgcolor": "white",
          "plot_bgcolor": "#E5ECF6",
          "polar": {
           "angularaxis": {
            "gridcolor": "white",
            "linecolor": "white",
            "ticks": ""
           },
           "bgcolor": "#E5ECF6",
           "radialaxis": {
            "gridcolor": "white",
            "linecolor": "white",
            "ticks": ""
           }
          },
          "scene": {
           "xaxis": {
            "backgroundcolor": "#E5ECF6",
            "gridcolor": "white",
            "gridwidth": 2,
            "linecolor": "white",
            "showbackground": true,
            "ticks": "",
            "zerolinecolor": "white"
           },
           "yaxis": {
            "backgroundcolor": "#E5ECF6",
            "gridcolor": "white",
            "gridwidth": 2,
            "linecolor": "white",
            "showbackground": true,
            "ticks": "",
            "zerolinecolor": "white"
           },
           "zaxis": {
            "backgroundcolor": "#E5ECF6",
            "gridcolor": "white",
            "gridwidth": 2,
            "linecolor": "white",
            "showbackground": true,
            "ticks": "",
            "zerolinecolor": "white"
           }
          },
          "shapedefaults": {
           "line": {
            "color": "#2a3f5f"
           }
          },
          "ternary": {
           "aaxis": {
            "gridcolor": "white",
            "linecolor": "white",
            "ticks": ""
           },
           "baxis": {
            "gridcolor": "white",
            "linecolor": "white",
            "ticks": ""
           },
           "bgcolor": "#E5ECF6",
           "caxis": {
            "gridcolor": "white",
            "linecolor": "white",
            "ticks": ""
           }
          },
          "title": {
           "x": 0.05
          },
          "xaxis": {
           "automargin": true,
           "gridcolor": "white",
           "linecolor": "white",
           "ticks": "",
           "title": {
            "standoff": 15
           },
           "zerolinecolor": "white",
           "zerolinewidth": 2
          },
          "yaxis": {
           "automargin": true,
           "gridcolor": "white",
           "linecolor": "white",
           "ticks": "",
           "title": {
            "standoff": 15
           },
           "zerolinecolor": "white",
           "zerolinewidth": 2
          }
         }
        }
       }
      }
     },
     "metadata": {},
     "output_type": "display_data"
    }
   ],
   "source": [
    "# Figure 4b - smae results but in pie chart forms\n",
    "\n",
    "labels = [\"Correct\", \"Partially correct\", \"Incorrect\"]\n",
    "\n",
    "# Create subplots: use 'domain' type for Pie subplot\n",
    "fig = make_subplots(rows=1, cols=3, specs=[[{'type':'domain'}, \n",
    "                                            {'type':'domain'},\n",
    "                                            {'type':'domain'}]])\n",
    "fig.add_trace(go.Pie(labels=labels, values=[10, 4, 40], name=\"scCATCH\"),\n",
    "              1, 1)\n",
    "fig.add_trace(go.Pie(labels=labels, values=[21, 5, 28], name=\"scTYPE\"),\n",
    "              1, 2)\n",
    "fig.add_trace(go.Pie(labels=labels, values=[19, 9, 26], name=\"scMayoMap\"),\n",
    "              1, 3)\n",
    "\n",
    "# Use `hole` to create a donut-like pie chart\n",
    "fig.update_traces(hole=.4, hoverinfo=\"label+percent+name\", \n",
    "                  marker=dict(colors=['green', 'orange', 'red']))\n",
    "\n",
    "fig.update_layout(\n",
    "    # Add annotations in the center of the donut pies.\n",
    "    annotations=[dict(text='scCATCH', x=sum(fig.get_subplot(1, 1).x) / 2, y=0.5,\n",
    "                      font_size=14, showarrow=False, xanchor=\"center\"),\n",
    "                 dict(text='scTYPE', x=sum(fig.get_subplot(1, 2).x) / 2, y=0.5,\n",
    "                      font_size=14, showarrow=False, xanchor=\"center\"),\n",
    "                 dict(text='scMM', x=sum(fig.get_subplot(1, 3).x) / 2, y=0.5,\n",
    "                 font_size=20, showarrow=False, xanchor=\"center\")])\n",
    "\n",
    "fig.show()"
   ]
  },
  {
   "cell_type": "markdown",
   "metadata": {},
   "source": [
    "### SBM and CP combined results"
   ]
  },
  {
   "cell_type": "code",
   "execution_count": 5,
   "metadata": {},
   "outputs": [
    {
     "data": {
      "application/vnd.plotly.v1+json": {
       "config": {
        "plotlyServerURL": "https://plot.ly"
       },
       "data": [
        {
         "marker": {
          "color": "#3A4F41"
         },
         "name": "Choroid Plexus",
         "type": "bar",
         "x": [
          "scMap",
          "SingleR",
          "scCATCH",
          "scTYPE",
          "scMayoMap",
          "scClassify",
          "scDeepSort"
         ],
         "y": {
          "bdata": "L6G9hPYSSED3EtpLaK9WQNBeQnsJ7TlAL6G9hPYSSEDQXkJ7Ce1JQO0ltJfQXlRAAAAAAAAAAAA=",
          "dtype": "f8"
         }
        },
        {
         "marker": {
          "color": "#B9314F"
         },
         "name": "Skull Bone Marrow",
         "type": "bar",
         "x": [
          "scMap",
          "SingleR",
          "scCATCH",
          "scTYPE",
          "scMayoMap",
          "scClassify",
          "scDeepSort"
         ],
         "y": {
          "bdata": "AAAAAAAAS0AAAAAAAIBUQAAAAAAAAEVAAAAAAAAAU0AAAAAAAIBUQAAAAAAAgFRAAAAAAACAU0A=",
          "dtype": "f8"
         }
        }
       ],
       "layout": {
        "barcornerradius": 5,
        "barmode": "group",
        "template": {
         "data": {
          "scatter": [
           {
            "type": "scatter"
           }
          ]
         }
        },
        "title": {
         "font": {
          "size": 16
         },
         "text": "Annotation results across different methods",
         "x": 0.5,
         "xanchor": "center",
         "y": 0.95,
         "yanchor": "middle"
        },
        "yaxis": {
         "title": {
          "font": {
           "size": 14
          },
          "text": "Proportion of correct + partially correct (%)"
         }
        }
       }
      }
     },
     "metadata": {},
     "output_type": "display_data"
    }
   ],
   "source": [
    "# Joint barchart comparing all annotations cross SBM and CP datasets\n",
    "\n",
    "# Figure x - Plotting gptcelltype results versus other marker, correlation and supervised learning methods\n",
    "# Methods compared : SingleR, scMAP, scType, scMayoMap, scClassify, scDeepSort, CellTypist\n",
    "ref_methods=['scMap', 'SingleR','scCATCH', 'scTYPE', 'scMayoMap', 'scClassify', 'scDeepSort']\n",
    "\n",
    "\n",
    "fig = go.Figure(data=[\n",
    "    go.Bar(name='Choroid Plexus', x=ref_methods, y=np.array([26, 49, 14, 26, 28, 44, 0]) / 54 * 100,\n",
    "           marker_color='#3A4F41'),\n",
    "    go.Bar(name='Skull Bone Marrow', x=ref_methods, y=np.array([27, 41, 21, 38, 41, 41, 39]) / 50 * 100, \n",
    "           marker_color='#B9314F'),\n",
    "], layout=dict(\n",
    "        barcornerradius=5,\n",
    "    ),)\n",
    "# Change the bar mode\n",
    "fig.update_layout(barmode='group', \n",
    "                  template='none',\n",
    "                  yaxis = dict(title='Proportion of correct + partially correct (%)',\n",
    "                               title_font = dict(size=14)),\n",
    "                  title = dict(text = 'Annotation results across different methods',\n",
    "                               font=dict(size=16),\n",
    "                               xanchor='center',\n",
    "                               yanchor='middle',\n",
    "                               x=0.5,\n",
    "                               y=0.95))\n",
    "fig.show()\n",
    "#pio.write_image(fig, '../../PNG_results/sbm_barchart_markerbased_results.png')"
   ]
  },
  {
   "cell_type": "code",
   "execution_count": 36,
   "metadata": {},
   "outputs": [
    {
     "data": {
      "application/vnd.plotly.v1+json": {
       "config": {
        "plotlyServerURL": "https://plot.ly"
       },
       "data": [
        {
         "base": 0,
         "legendgroup": "Choroid Plexus",
         "marker": {
          "color": "#3A4F41"
         },
         "name": "Choroid Plexus (Correct)",
         "showlegend": false,
         "type": "bar",
         "width": 0.25,
         "x": {
          "bdata": "AAECAwQFBg==",
          "dtype": "i1"
         },
         "y": {
          "bdata": "tJfQXkJ7P0BMaC+hvYRSQExoL6G9hDJAHcdxHMdxQ0B7Ce0ltJdBQLSX0F5Ce09AAAAAAAAAAAA=",
          "dtype": "f8"
         }
        },
        {
         "base": [
          31.48148148148148,
          74.07407407407408,
          18.51851851851852,
          38.88888888888889,
          35.18518518518518,
          62.96296296296296,
          0
         ],
         "legendgroup": "Choroid Plexus",
         "marker": {
          "color": "rgba(58, 79, 65, 0.6)"
         },
         "name": "Choroid Plexus (Partially Correct)",
         "showlegend": false,
         "type": "bar",
         "width": 0.25,
         "x": {
          "bdata": "AAECAwQFBg==",
          "dtype": "i1"
         },
         "y": {
          "bdata": "qqqqqqqqMECqqqqqqqowQBLaS2gvoR1ATGgvob2EIkCqqqqqqqowQExoL6G9hDJAAAAAAAAAAAA=",
          "dtype": "f8"
         }
        },
        {
         "base": 0,
         "legendgroup": "Skull Bone Marrow",
         "marker": {
          "color": "#B9314F"
         },
         "name": "Skull Bone Marrow (Correct)",
         "showlegend": false,
         "type": "bar",
         "width": 0.25,
         "x": {
          "bdata": "MzMzMzMz0z/NzMzMzMz0P2ZmZmZmZgJAZmZmZmZmCkAzMzMzMzMRQDMzMzMzMxVAMzMzMzMzGUA=",
          "dtype": "f8"
         },
         "y": {
          "bdata": "AAAAAAAAMEAAAAAAAAA0QAAAAAAAADpAAAAAAAAAQUAAAAAAAAA4QAAAAAAAADJAAAAAAAAAKEA=",
          "dtype": "f8"
         }
        },
        {
         "base": [
          16,
          20,
          26,
          34,
          24,
          18,
          12
         ],
         "legendgroup": "Skull Bone Marrow",
         "marker": {
          "color": "rgba(185, 49, 79, 0.6)"
         },
         "name": "Skull Bone Marrow (Partially Correct)",
         "showlegend": false,
         "type": "bar",
         "width": 0.25,
         "x": {
          "bdata": "MzMzMzMz0z/NzMzMzMz0P2ZmZmZmZgJAZmZmZmZmCkAzMzMzMzMRQDMzMzMzMxVAMzMzMzMzGUA=",
          "dtype": "f8"
         },
         "y": {
          "bdata": "AAAAAAAAQ0AAAAAAAABPQAAAAAAAADBAAAAAAAAARUD///////9MQAAAAAAAAFBAAAAAAAAASEA=",
          "dtype": "f8"
         }
        },
        {
         "legendgroup": "Choroid Plexus",
         "marker": {
          "color": "#3A4F41"
         },
         "name": "Choroid Plexus",
         "type": "bar",
         "x": [
          null
         ],
         "y": [
          null
         ]
        },
        {
         "legendgroup": "Skull Bone Marrow",
         "marker": {
          "color": "#B9314F"
         },
         "name": "Skull Bone Marrow",
         "type": "bar",
         "x": [
          null
         ],
         "y": [
          null
         ]
        }
       ],
       "layout": {
        "barcornerradius": 1,
        "barmode": "overlay",
        "legend": {
         "orientation": "h",
         "x": 1,
         "xanchor": "right",
         "y": 1.02,
         "yanchor": "bottom"
        },
        "template": {
         "data": {
          "scatter": [
           {
            "type": "scatter"
           }
          ]
         }
        },
        "title": {
         "font": {
          "size": 16
         },
         "text": "Annotation results across different methods",
         "x": 0.5,
         "xanchor": "center",
         "y": 0.95,
         "yanchor": "middle"
        },
        "xaxis": {
         "tickmode": "array",
         "ticktext": [
          "scMap",
          "SingleR",
          "scCATCH",
          "scTYPE",
          "scMayoMap",
          "scClassify",
          "scDeepSort"
         ],
         "tickvals": {
          "bdata": "MzMzMzMzwz9mZmZmZmbyPzMzMzMzMwFAMzMzMzMzCUCamZmZmZkQQJqZmZmZmRRAmpmZmZmZGEA=",
          "dtype": "f8"
         }
        },
        "yaxis": {
         "title": {
          "font": {
           "size": 14
          },
          "text": "Proportion of correct + partially correct (%)"
         }
        }
       }
      }
     },
     "metadata": {},
     "output_type": "display_data"
    }
   ],
   "source": [
    "# Attempt 2\n",
    "\n",
    "import plotly.graph_objects as go\n",
    "import numpy as np\n",
    "\n",
    "ref_methods = ['scMap', 'SingleR', 'scCATCH', 'scTYPE', 'scMayoMap', 'scClassify', 'scDeepSort']\n",
    "\n",
    "# Original data - total proportions (correct + partially correct)\n",
    "choroid_plexus_total = np.array([26, 49, 14, 26, 28, 44, 0]) / 54 * 100\n",
    "skull_bone_marrow_total = np.array([27, 41, 21, 38, 41, 41, 39]) / 50 * 100\n",
    "\n",
    "# Split each into correct (50%) and partially correct (50%)\n",
    "choroid_plexus_correct = np.array([17, 40, 10, 21, 19, 34, 0]) / 54 * 100\n",
    "choroid_plexus_partial = np.array([9, 9, 4, 5, 9, 10, 0]) / 54 * 100\n",
    "\n",
    "skull_bone_marrow_correct = np.array([8, 10, 13, 17, 12, 9, 6]) / 50 * 100\n",
    "skull_bone_marrow_partial = np.array([19, 31, 8, 21, 29, 32, 24]) / 50 * 100\n",
    "\n",
    "# Custom x-positions to group bars by method but keep tissues separate\n",
    "x_choroid = np.arange(len(ref_methods))\n",
    "x_skull = x_choroid + 0.3  # Offset for the second tissue\n",
    "\n",
    "# Create the figure\n",
    "fig = go.Figure()\n",
    "\n",
    "# Choroid Plexus - Stacked bars (correct at bottom, partially correct on top)\n",
    "fig.add_trace(go.Bar(\n",
    "    name='Choroid Plexus (Correct)',\n",
    "    x=x_choroid,\n",
    "    y=choroid_plexus_correct,\n",
    "    marker_color='#3A4F41',\n",
    "    width=0.25,\n",
    "    base=0,\n",
    "    legendgroup='Choroid Plexus',\n",
    "    showlegend=False\n",
    "))\n",
    "\n",
    "fig.add_trace(go.Bar(\n",
    "    name='Choroid Plexus (Partially Correct)',\n",
    "    x=x_choroid,\n",
    "    y=choroid_plexus_partial,\n",
    "    marker_color='rgba(58, 79, 65, 0.6)',  # Lighter version of #3A4F41\n",
    "    width=0.25,\n",
    "    base=choroid_plexus_correct,  # Stack on top of correct portion\n",
    "    legendgroup='Choroid Plexus',\n",
    "    showlegend=False\n",
    "))\n",
    "\n",
    "# Skull Bone Marrow - Stacked bars (correct at bottom, partially correct on top)\n",
    "fig.add_trace(go.Bar(\n",
    "    name='Skull Bone Marrow (Correct)',\n",
    "    x=x_skull, \n",
    "    y=skull_bone_marrow_correct,\n",
    "    marker_color='#B9314F',\n",
    "    width=0.25,\n",
    "    base=0,\n",
    "    legendgroup='Skull Bone Marrow',\n",
    "    showlegend=False\n",
    "))\n",
    "\n",
    "fig.add_trace(go.Bar(\n",
    "    name='Skull Bone Marrow (Partially Correct)',\n",
    "    x=x_skull,\n",
    "    y=skull_bone_marrow_partial,\n",
    "    marker_color='rgba(185, 49, 79, 0.6)',  # Lighter version of #B9314F\n",
    "    width=0.25,\n",
    "    base=skull_bone_marrow_correct,  # Stack on top of correct portion\n",
    "    legendgroup='Skull Bone Marrow',\n",
    "    showlegend=False\n",
    "))\n",
    "\n",
    "# Add visible legend items for tissues\n",
    "fig.add_trace(go.Bar(\n",
    "    name='Choroid Plexus',\n",
    "    x=[None], \n",
    "    y=[None],\n",
    "    marker_color='#3A4F41',\n",
    "    legendgroup='Choroid Plexus'\n",
    "))\n",
    "\n",
    "fig.add_trace(go.Bar(\n",
    "    name='Skull Bone Marrow',\n",
    "    x=[None], \n",
    "    y=[None],\n",
    "    marker_color='#B9314F',\n",
    "    legendgroup='Skull Bone Marrow'\n",
    "))\n",
    "\n",
    "# Update layout\n",
    "fig.update_layout(\n",
    "    barmode='overlay',  # Use overlay to handle the custom stacking\n",
    "    barcornerradius=1,\n",
    "    template='none',\n",
    "    yaxis=dict(\n",
    "        title='Proportion of correct + partially correct (%)',\n",
    "        title_font=dict(size=14)\n",
    "    ),\n",
    "    title=dict(\n",
    "        text='Annotation results across different methods',\n",
    "        font=dict(size=16),\n",
    "        xanchor='center',\n",
    "        yanchor='middle',\n",
    "        x=0.5,\n",
    "        y=0.95\n",
    "    ),\n",
    "    legend=dict(\n",
    "        orientation=\"h\",\n",
    "        yanchor=\"bottom\",\n",
    "        y=1.02,\n",
    "        xanchor=\"right\",\n",
    "        x=1\n",
    "    ),\n",
    "    xaxis=dict(\n",
    "        tickmode='array',\n",
    "        tickvals=x_choroid + 0.15,  # Center tick labels between the tissue pairs\n",
    "        ticktext=ref_methods\n",
    "    )\n",
    ")\n",
    "\n",
    "fig.show()"
   ]
  },
  {
   "cell_type": "code",
   "execution_count": 80,
   "metadata": {},
   "outputs": [
    {
     "data": {
      "application/vnd.plotly.v1+json": {
       "config": {
        "plotlyServerURL": "https://plot.ly"
       },
       "data": [
        {
         "base": 0,
         "insidetextanchor": "middle",
         "legendgroup": "Choroid Plexus",
         "marker": {
          "color": "#3A4F41"
         },
         "name": "Choroid Plexus (Correct)",
         "showlegend": false,
         "text": [
          "31.5%",
          "74.1%",
          "18.5%",
          "38.9%",
          "35.2%",
          "63.0%",
          "0.0%"
         ],
         "textfont": {
          "color": "white",
          "size": 10
         },
         "textposition": "inside",
         "type": "bar",
         "width": 0.4,
         "x": {
          "bdata": "AAECAwQFBg==",
          "dtype": "i1"
         },
         "y": {
          "bdata": "tJfQXkJ7P0BMaC+hvYRSQExoL6G9hDJAHcdxHMdxQ0B7Ce0ltJdBQLSX0F5Ce09AAAAAAAAAAAA=",
          "dtype": "f8"
         }
        },
        {
         "base": [
          31.48148148148148,
          74.07407407407408,
          18.51851851851852,
          38.88888888888889,
          35.18518518518518,
          62.96296296296296,
          0
         ],
         "insidetextanchor": "middle",
         "legendgroup": "Choroid Plexus",
         "marker": {
          "color": "rgba(58, 79, 65, 0.6)"
         },
         "name": "Choroid Plexus (Partially Correct)",
         "showlegend": false,
         "text": [
          "16.7%",
          "16.7%",
          "7.4%",
          "9.3%",
          "16.7%",
          "18.5%",
          "0.0%"
         ],
         "textfont": {
          "color": "white",
          "size": 10
         },
         "textposition": "inside",
         "type": "bar",
         "width": 0.4,
         "x": {
          "bdata": "AAECAwQFBg==",
          "dtype": "i1"
         },
         "y": {
          "bdata": "qqqqqqqqMECqqqqqqqowQBLaS2gvoR1ATGgvob2EIkCqqqqqqqowQExoL6G9hDJAAAAAAAAAAAA=",
          "dtype": "f8"
         }
        },
        {
         "base": 0,
         "insidetextanchor": "middle",
         "legendgroup": "Skull Bone Marrow",
         "marker": {
          "color": "#B9314F"
         },
         "name": "Skull Bone Marrow (Correct)",
         "showlegend": false,
         "text": [
          "16.0%",
          "20.0%",
          "26.0%",
          "34.0%",
          "24.0%",
          "18.0%",
          "12.0%"
         ],
         "textfont": {
          "color": "white",
          "size": 10
         },
         "textposition": "inside",
         "type": "bar",
         "width": 0.4,
         "x": {
          "bdata": "mpmZmZmZ2T9mZmZmZmb2PzMzMzMzMwNAMzMzMzMzC0CamZmZmZkRQJqZmZmZmRVAmpmZmZmZGUA=",
          "dtype": "f8"
         },
         "y": {
          "bdata": "AAAAAAAAMEAAAAAAAAA0QAAAAAAAADpAAAAAAAAAQUAAAAAAAAA4QAAAAAAAADJAAAAAAAAAKEA=",
          "dtype": "f8"
         }
        },
        {
         "base": [
          16,
          20,
          26,
          34,
          24,
          18,
          12
         ],
         "insidetextanchor": "middle",
         "legendgroup": "Skull Bone Marrow",
         "marker": {
          "color": "rgba(185, 49, 79, 0.6)"
         },
         "name": "Skull Bone Marrow (Partially Correct)",
         "showlegend": false,
         "text": [
          "38.0%",
          "62.0%",
          "16.0%",
          "42.0%",
          "58.0%",
          "64.0%",
          "48.0%"
         ],
         "textfont": {
          "color": "white",
          "size": 10
         },
         "textposition": "inside",
         "type": "bar",
         "width": 0.4,
         "x": {
          "bdata": "mpmZmZmZ2T9mZmZmZmb2PzMzMzMzMwNAMzMzMzMzC0CamZmZmZkRQJqZmZmZmRVAmpmZmZmZGUA=",
          "dtype": "f8"
         },
         "y": {
          "bdata": "AAAAAAAAQ0AAAAAAAABPQAAAAAAAADBAAAAAAAAARUD///////9MQAAAAAAAAFBAAAAAAAAASEA=",
          "dtype": "f8"
         }
        },
        {
         "legendgroup": "Choroid Plexus",
         "marker": {
          "color": "#3A4F41"
         },
         "name": "Choroid Plexus",
         "type": "bar",
         "x": [
          null
         ],
         "y": [
          null
         ]
        },
        {
         "legendgroup": "Skull Bone Marrow",
         "marker": {
          "color": "#B9314F"
         },
         "name": "Skull Bone Marrow",
         "type": "bar",
         "x": [
          null
         ],
         "y": [
          null
         ]
        }
       ],
       "layout": {
        "annotations": [
         {
          "arrowcolor": "black",
          "arrowhead": 2,
          "arrowsize": 1,
          "arrowwidth": 1,
          "ax": 20,
          "ay": 0,
          "bgcolor": "rgba(255,255,255,0.7)",
          "bordercolor": "black",
          "font": {
           "color": "black",
           "size": 10
          },
          "showarrow": true,
          "text": "Correct",
          "x": 5.8500000000000005,
          "y": 6
         },
         {
          "bgcolor": "rgba(255,255,255,0.7)",
          "bordercolor": "black",
          "font": {
           "color": "black",
           "size": 10
          },
          "showarrow": false,
          "text": "Partially<br>Correct",
          "x": 6,
          "y": 28
         }
        ],
        "barcornerradius": 1,
        "barmode": "overlay",
        "legend": {
         "orientation": "h",
         "x": 1,
         "xanchor": "right",
         "y": 1.02,
         "yanchor": "bottom"
        },
        "shapes": [
         {
          "fillcolor": "rgba(0,0,0,0)",
          "line": {
           "color": "black",
           "width": 2
          },
          "type": "rect",
          "x0": 6.2,
          "x1": 6.6000000000000005,
          "y0": 0,
          "y1": 12
         },
         {
          "fillcolor": "rgba(0,0,0,0)",
          "line": {
           "color": "black",
           "width": 2
          },
          "type": "rect",
          "x0": 6.2,
          "x1": 6.6000000000000005,
          "y0": 11.3,
          "y1": 60
         }
        ],
        "template": {
         "data": {
          "scatter": [
           {
            "type": "scatter"
           }
          ]
         }
        },
        "title": {
         "font": {
          "size": 16
         },
         "text": "Annotation results across different methods",
         "x": 0.5,
         "xanchor": "center",
         "y": 0.95,
         "yanchor": "middle"
        },
        "xaxis": {
         "tickmode": "array",
         "ticktext": [
          "scMap",
          "SingleR",
          "scCATCH",
          "scTYPE",
          "scMayoMap",
          "scClassify",
          "scDeepSort"
         ],
         "tickvals": {
          "bdata": "mpmZmZmZyT8zMzMzMzPzP5qZmZmZmQFAmpmZmZmZCUDNzMzMzMwQQM3MzMzMzBRAzczMzMzMGEA=",
          "dtype": "f8"
         }
        },
        "yaxis": {
         "title": {
          "font": {
           "size": 14
          },
          "text": "Proportion of correct + partially correct (%)"
         }
        }
       }
      }
     },
     "metadata": {},
     "output_type": "display_data"
    }
   ],
   "source": [
    "# Attempt 3\n",
    "\n",
    "import plotly.graph_objects as go\n",
    "import numpy as np\n",
    "\n",
    "ref_methods = ['scMap', 'SingleR', 'scCATCH', 'scTYPE', 'scMayoMap', 'scClassify', 'scDeepSort']\n",
    "\n",
    "# Original data - total proportions (correct + partially correct)\n",
    "choroid_plexus_total = np.array([26, 49, 14, 26, 28, 44, 0]) / 54 * 100\n",
    "skull_bone_marrow_total = np.array([27, 41, 21, 38, 41, 41, 39]) / 50 * 100\n",
    "\n",
    "# Split each into correct (50%) and partially correct (50%)\n",
    "choroid_plexus_correct = np.array([17, 40, 10, 21, 19, 34, 0]) / 54 * 100\n",
    "choroid_plexus_partial = np.array([9, 9, 4, 5, 9, 10, 0]) / 54 * 100\n",
    "\n",
    "skull_bone_marrow_correct = np.array([8, 10, 13, 17, 12, 9, 6]) / 50 * 100\n",
    "skull_bone_marrow_partial = np.array([19, 31, 8, 21, 29, 32, 24]) / 50 * 100\n",
    "\n",
    "# Custom x-positions to group bars by method but keep tissues separate\n",
    "# Using smaller gap between tissue groups (0.2 instead of 0.3)\n",
    "x_choroid = np.arange(len(ref_methods))\n",
    "x_skull = x_choroid + 0.4  # Reduced gap between tissue groups\n",
    "\n",
    "# Create the figure\n",
    "fig = go.Figure()\n",
    "\n",
    "# Choroid Plexus - Stacked bars (correct at bottom, partially correct on top)\n",
    "fig.add_trace(go.Bar(\n",
    "    name='Choroid Plexus (Correct)',\n",
    "    x=x_choroid,\n",
    "    y=choroid_plexus_correct,\n",
    "    marker_color='#3A4F41',\n",
    "    width=0.4,  # Reduced width for closer bars\n",
    "    base=0,\n",
    "    legendgroup='Choroid Plexus',\n",
    "    showlegend=False,\n",
    "    text=[f\"{val:.1f}%\" for val in choroid_plexus_correct],  # Add percentage labels\n",
    "    textposition='inside',\n",
    "    textfont=dict(color='white', size=10),\n",
    "    insidetextanchor='middle'\n",
    "))\n",
    "\n",
    "fig.add_trace(go.Bar(\n",
    "    name='Choroid Plexus (Partially Correct)',\n",
    "    x=x_choroid,\n",
    "    y=choroid_plexus_partial,\n",
    "    marker_color='rgba(58, 79, 65, 0.6)',  # Lighter version of #3A4F41\n",
    "    width=0.4,  # Reduced width for closer bars\n",
    "    base=choroid_plexus_correct,  # Stack on top of correct portion\n",
    "    legendgroup='Choroid Plexus',\n",
    "    showlegend=False,\n",
    "    text=[f\"{val:.1f}%\" for val in choroid_plexus_partial],  # Add percentage labels\n",
    "    textposition='inside',\n",
    "    textfont=dict(color='white', size=10),\n",
    "    insidetextanchor='middle'\n",
    "))\n",
    "\n",
    "# Skull Bone Marrow - Stacked bars (correct at bottom, partially correct on top)\n",
    "fig.add_trace(go.Bar(\n",
    "    name='Skull Bone Marrow (Correct)',\n",
    "    x=x_skull, \n",
    "    y=skull_bone_marrow_correct,\n",
    "    marker_color='#B9314F',\n",
    "    width=0.4,  # Reduced width for closer bars\n",
    "    base=0,\n",
    "    legendgroup='Skull Bone Marrow',\n",
    "    showlegend=False,\n",
    "    text=[f\"{val:.1f}%\" for val in skull_bone_marrow_correct],  # Add percentage labels\n",
    "    textposition='inside',\n",
    "    textfont=dict(color='white', size=10),\n",
    "    insidetextanchor='middle'\n",
    "))\n",
    "\n",
    "fig.add_trace(go.Bar(\n",
    "    name='Skull Bone Marrow (Partially Correct)',\n",
    "    x=x_skull,\n",
    "    y=skull_bone_marrow_partial,\n",
    "    marker_color='rgba(185, 49, 79, 0.6)',  # Lighter version of #B9314F\n",
    "    width=0.4,  # Reduced width for closer bars\n",
    "    base=skull_bone_marrow_correct,  # Stack on top of correct portion\n",
    "    legendgroup='Skull Bone Marrow',\n",
    "    showlegend=False,\n",
    "    text=[f\"{val:.1f}%\" for val in skull_bone_marrow_partial],  # Add percentage labels\n",
    "    textposition='inside',\n",
    "    textfont=dict(color='white', size=10),\n",
    "    insidetextanchor='middle'\n",
    "))\n",
    "\n",
    "# Add visible legend items for tissues\n",
    "fig.add_trace(go.Bar(\n",
    "    name='Choroid Plexus',\n",
    "    x=[None], \n",
    "    y=[None],\n",
    "    marker_color='#3A4F41',\n",
    "    legendgroup='Choroid Plexus'\n",
    "))\n",
    "\n",
    "fig.add_trace(go.Bar(\n",
    "    name='Skull Bone Marrow',\n",
    "    x=[None], \n",
    "    y=[None],\n",
    "    marker_color='#B9314F',\n",
    "    legendgroup='Skull Bone Marrow'\n",
    "))\n",
    "\n",
    "# Add rectangles around scDeepSort bars\n",
    "# Index of scDeepSort in ref_methods\n",
    "deepsort_idx = ref_methods.index('scDeepSort')\n",
    "x_deepsort_choroid = x_choroid[deepsort_idx]\n",
    "x_deepsort_skull = x_skull[deepsort_idx]\n",
    "\n",
    "# Rectangle for \"Correct\" (bottom part of Skull Bone Marrow bar since Choroid Plexus is 0)\n",
    "fig.add_shape(\n",
    "    type=\"rect\",\n",
    "    x0=x_deepsort_skull - 0.2,  # Wider than the bar for visibility\n",
    "    y0=0,  # Start slightly below to ensure visibility\n",
    "    x1=x_deepsort_skull + 0.2,\n",
    "    y1=skull_bone_marrow_correct[deepsort_idx],  # End at top of correct portion\n",
    "    line=dict(color=\"black\", width=2),\n",
    "    fillcolor=\"rgba(0,0,0,0)\",\n",
    ")\n",
    "\n",
    "# Add \"Correct\" label\n",
    "fig.add_annotation(\n",
    "    x=x_deepsort_skull - 0.55,  # Position to the right of the bar\n",
    "    y=skull_bone_marrow_correct[deepsort_idx] / 2,  # Middle of correct portion\n",
    "    text=\"Correct\",\n",
    "    showarrow=True,\n",
    "    arrowhead=2,\n",
    "    arrowsize=1,\n",
    "    arrowwidth=1,\n",
    "    arrowcolor=\"black\",\n",
    "    ax=20,  # Length of the arrow in pixels\n",
    "    ay=0,   # No vertical component\n",
    "    font=dict(color=\"black\", size=10),\n",
    "    bordercolor=\"black\",\n",
    "    bgcolor=\"rgba(255,255,255,0.7)\",\n",
    ")\n",
    "\n",
    "# Rectangle for \"Partially Correct\" (top part of Skull Bone Marrow bar)\n",
    "fig.add_shape(\n",
    "    type=\"rect\",\n",
    "    x0=x_deepsort_skull - 0.2,  # Wider than the bar for visibility\n",
    "    y0=skull_bone_marrow_correct[deepsort_idx] - 0.7,  # Start at top of correct portion\n",
    "    x1=x_deepsort_skull + 0.2,\n",
    "    y1=skull_bone_marrow_total[deepsort_idx] - 18,  \n",
    "    line=dict(color=\"black\", width=2),\n",
    "    fillcolor=\"rgba(0,0,0,0)\",\n",
    ")\n",
    "\n",
    "# Add \"Partially Correct\" label\n",
    "fig.add_annotation(\n",
    "    x=x_deepsort_skull - 0.4,  # Position to the right of the bar\n",
    "    y=skull_bone_marrow_correct[deepsort_idx] + skull_bone_marrow_partial[deepsort_idx] / 3,  # Middle of partial portion\n",
    "    text=\"Partially<br>Correct\",\n",
    "    showarrow=False,\n",
    "    font=dict(color=\"black\", size=10),\n",
    "    bordercolor=\"black\",\n",
    "    bgcolor=\"rgba(255,255,255,0.7)\",\n",
    ")\n",
    "\n",
    "# Update layout\n",
    "fig.update_layout(\n",
    "    barmode='overlay',  # Use overlay to handle the custom stacking\n",
    "    barcornerradius=1,\n",
    "    template='none',\n",
    "    yaxis=dict(\n",
    "        title='Proportion of correct + partially correct (%)',\n",
    "        title_font=dict(size=14)\n",
    "    ),\n",
    "    title=dict(\n",
    "        text='Annotation results across different methods',\n",
    "        font=dict(size=16),\n",
    "        xanchor='center',\n",
    "        yanchor='middle',\n",
    "        x=0.5,\n",
    "        y=0.95\n",
    "    ),\n",
    "    legend=dict(\n",
    "        orientation=\"h\",\n",
    "        yanchor=\"bottom\",\n",
    "        y=1.02,\n",
    "        xanchor=\"right\",\n",
    "        x=1\n",
    "    ),\n",
    "    xaxis=dict(\n",
    "        tickmode='array',\n",
    "        tickvals=x_choroid + 0.2,  # Center tick labels between the tissue pairs\n",
    "        ticktext=ref_methods\n",
    "    )\n",
    ")\n",
    "\n",
    "fig.show()"
   ]
  },
  {
   "cell_type": "code",
   "execution_count": 31,
   "metadata": {},
   "outputs": [
    {
     "data": {
      "application/vnd.plotly.v1+json": {
       "config": {
        "plotlyServerURL": "https://plot.ly"
       },
       "data": [
        {
         "domain": {
          "x": [
           0,
           0.45
          ],
          "y": [
           0,
           1
          ]
         },
         "hole": 0.4,
         "hoverinfo": "label+percent+name",
         "labels": [
          "Correct",
          "Partially correct",
          "Incorrect"
         ],
         "marker": {
          "colors": [
           "#4C9F70",
           "#F2CD5D",
           "#F45B69"
          ]
         },
         "name": "CP",
         "type": "pie",
         "values": [
          40,
          9,
          5
         ]
        },
        {
         "domain": {
          "x": [
           0.55,
           1
          ],
          "y": [
           0,
           1
          ]
         },
         "hole": 0.4,
         "hoverinfo": "label+percent+name",
         "labels": [
          "Correct",
          "Partially correct",
          "Incorrect"
         ],
         "marker": {
          "colors": [
           "#4C9F70",
           "#F2CD5D",
           "#F45B69"
          ]
         },
         "name": "SBM",
         "type": "pie",
         "values": [
          10,
          31,
          9
         ]
        }
       ],
       "layout": {
        "annotations": [
         {
          "font": {
           "size": 14
          },
          "showarrow": false,
          "text": "CP",
          "x": 0.225,
          "xanchor": "center",
          "y": 0.5
         },
         {
          "font": {
           "size": 14
          },
          "showarrow": false,
          "text": "SBM",
          "x": 0.775,
          "xanchor": "center",
          "y": 0.5
         }
        ],
        "template": {
         "data": {
          "bar": [
           {
            "error_x": {
             "color": "#2a3f5f"
            },
            "error_y": {
             "color": "#2a3f5f"
            },
            "marker": {
             "line": {
              "color": "#E5ECF6",
              "width": 0.5
             },
             "pattern": {
              "fillmode": "overlay",
              "size": 10,
              "solidity": 0.2
             }
            },
            "type": "bar"
           }
          ],
          "barpolar": [
           {
            "marker": {
             "line": {
              "color": "#E5ECF6",
              "width": 0.5
             },
             "pattern": {
              "fillmode": "overlay",
              "size": 10,
              "solidity": 0.2
             }
            },
            "type": "barpolar"
           }
          ],
          "carpet": [
           {
            "aaxis": {
             "endlinecolor": "#2a3f5f",
             "gridcolor": "white",
             "linecolor": "white",
             "minorgridcolor": "white",
             "startlinecolor": "#2a3f5f"
            },
            "baxis": {
             "endlinecolor": "#2a3f5f",
             "gridcolor": "white",
             "linecolor": "white",
             "minorgridcolor": "white",
             "startlinecolor": "#2a3f5f"
            },
            "type": "carpet"
           }
          ],
          "choropleth": [
           {
            "colorbar": {
             "outlinewidth": 0,
             "ticks": ""
            },
            "type": "choropleth"
           }
          ],
          "contour": [
           {
            "colorbar": {
             "outlinewidth": 0,
             "ticks": ""
            },
            "colorscale": [
             [
              0,
              "#0d0887"
             ],
             [
              0.1111111111111111,
              "#46039f"
             ],
             [
              0.2222222222222222,
              "#7201a8"
             ],
             [
              0.3333333333333333,
              "#9c179e"
             ],
             [
              0.4444444444444444,
              "#bd3786"
             ],
             [
              0.5555555555555556,
              "#d8576b"
             ],
             [
              0.6666666666666666,
              "#ed7953"
             ],
             [
              0.7777777777777778,
              "#fb9f3a"
             ],
             [
              0.8888888888888888,
              "#fdca26"
             ],
             [
              1,
              "#f0f921"
             ]
            ],
            "type": "contour"
           }
          ],
          "contourcarpet": [
           {
            "colorbar": {
             "outlinewidth": 0,
             "ticks": ""
            },
            "type": "contourcarpet"
           }
          ],
          "heatmap": [
           {
            "colorbar": {
             "outlinewidth": 0,
             "ticks": ""
            },
            "colorscale": [
             [
              0,
              "#0d0887"
             ],
             [
              0.1111111111111111,
              "#46039f"
             ],
             [
              0.2222222222222222,
              "#7201a8"
             ],
             [
              0.3333333333333333,
              "#9c179e"
             ],
             [
              0.4444444444444444,
              "#bd3786"
             ],
             [
              0.5555555555555556,
              "#d8576b"
             ],
             [
              0.6666666666666666,
              "#ed7953"
             ],
             [
              0.7777777777777778,
              "#fb9f3a"
             ],
             [
              0.8888888888888888,
              "#fdca26"
             ],
             [
              1,
              "#f0f921"
             ]
            ],
            "type": "heatmap"
           }
          ],
          "histogram": [
           {
            "marker": {
             "pattern": {
              "fillmode": "overlay",
              "size": 10,
              "solidity": 0.2
             }
            },
            "type": "histogram"
           }
          ],
          "histogram2d": [
           {
            "colorbar": {
             "outlinewidth": 0,
             "ticks": ""
            },
            "colorscale": [
             [
              0,
              "#0d0887"
             ],
             [
              0.1111111111111111,
              "#46039f"
             ],
             [
              0.2222222222222222,
              "#7201a8"
             ],
             [
              0.3333333333333333,
              "#9c179e"
             ],
             [
              0.4444444444444444,
              "#bd3786"
             ],
             [
              0.5555555555555556,
              "#d8576b"
             ],
             [
              0.6666666666666666,
              "#ed7953"
             ],
             [
              0.7777777777777778,
              "#fb9f3a"
             ],
             [
              0.8888888888888888,
              "#fdca26"
             ],
             [
              1,
              "#f0f921"
             ]
            ],
            "type": "histogram2d"
           }
          ],
          "histogram2dcontour": [
           {
            "colorbar": {
             "outlinewidth": 0,
             "ticks": ""
            },
            "colorscale": [
             [
              0,
              "#0d0887"
             ],
             [
              0.1111111111111111,
              "#46039f"
             ],
             [
              0.2222222222222222,
              "#7201a8"
             ],
             [
              0.3333333333333333,
              "#9c179e"
             ],
             [
              0.4444444444444444,
              "#bd3786"
             ],
             [
              0.5555555555555556,
              "#d8576b"
             ],
             [
              0.6666666666666666,
              "#ed7953"
             ],
             [
              0.7777777777777778,
              "#fb9f3a"
             ],
             [
              0.8888888888888888,
              "#fdca26"
             ],
             [
              1,
              "#f0f921"
             ]
            ],
            "type": "histogram2dcontour"
           }
          ],
          "mesh3d": [
           {
            "colorbar": {
             "outlinewidth": 0,
             "ticks": ""
            },
            "type": "mesh3d"
           }
          ],
          "parcoords": [
           {
            "line": {
             "colorbar": {
              "outlinewidth": 0,
              "ticks": ""
             }
            },
            "type": "parcoords"
           }
          ],
          "pie": [
           {
            "automargin": true,
            "type": "pie"
           }
          ],
          "scatter": [
           {
            "fillpattern": {
             "fillmode": "overlay",
             "size": 10,
             "solidity": 0.2
            },
            "type": "scatter"
           }
          ],
          "scatter3d": [
           {
            "line": {
             "colorbar": {
              "outlinewidth": 0,
              "ticks": ""
             }
            },
            "marker": {
             "colorbar": {
              "outlinewidth": 0,
              "ticks": ""
             }
            },
            "type": "scatter3d"
           }
          ],
          "scattercarpet": [
           {
            "marker": {
             "colorbar": {
              "outlinewidth": 0,
              "ticks": ""
             }
            },
            "type": "scattercarpet"
           }
          ],
          "scattergeo": [
           {
            "marker": {
             "colorbar": {
              "outlinewidth": 0,
              "ticks": ""
             }
            },
            "type": "scattergeo"
           }
          ],
          "scattergl": [
           {
            "marker": {
             "colorbar": {
              "outlinewidth": 0,
              "ticks": ""
             }
            },
            "type": "scattergl"
           }
          ],
          "scattermap": [
           {
            "marker": {
             "colorbar": {
              "outlinewidth": 0,
              "ticks": ""
             }
            },
            "type": "scattermap"
           }
          ],
          "scattermapbox": [
           {
            "marker": {
             "colorbar": {
              "outlinewidth": 0,
              "ticks": ""
             }
            },
            "type": "scattermapbox"
           }
          ],
          "scatterpolar": [
           {
            "marker": {
             "colorbar": {
              "outlinewidth": 0,
              "ticks": ""
             }
            },
            "type": "scatterpolar"
           }
          ],
          "scatterpolargl": [
           {
            "marker": {
             "colorbar": {
              "outlinewidth": 0,
              "ticks": ""
             }
            },
            "type": "scatterpolargl"
           }
          ],
          "scatterternary": [
           {
            "marker": {
             "colorbar": {
              "outlinewidth": 0,
              "ticks": ""
             }
            },
            "type": "scatterternary"
           }
          ],
          "surface": [
           {
            "colorbar": {
             "outlinewidth": 0,
             "ticks": ""
            },
            "colorscale": [
             [
              0,
              "#0d0887"
             ],
             [
              0.1111111111111111,
              "#46039f"
             ],
             [
              0.2222222222222222,
              "#7201a8"
             ],
             [
              0.3333333333333333,
              "#9c179e"
             ],
             [
              0.4444444444444444,
              "#bd3786"
             ],
             [
              0.5555555555555556,
              "#d8576b"
             ],
             [
              0.6666666666666666,
              "#ed7953"
             ],
             [
              0.7777777777777778,
              "#fb9f3a"
             ],
             [
              0.8888888888888888,
              "#fdca26"
             ],
             [
              1,
              "#f0f921"
             ]
            ],
            "type": "surface"
           }
          ],
          "table": [
           {
            "cells": {
             "fill": {
              "color": "#EBF0F8"
             },
             "line": {
              "color": "white"
             }
            },
            "header": {
             "fill": {
              "color": "#C8D4E3"
             },
             "line": {
              "color": "white"
             }
            },
            "type": "table"
           }
          ]
         },
         "layout": {
          "annotationdefaults": {
           "arrowcolor": "#2a3f5f",
           "arrowhead": 0,
           "arrowwidth": 1
          },
          "autotypenumbers": "strict",
          "coloraxis": {
           "colorbar": {
            "outlinewidth": 0,
            "ticks": ""
           }
          },
          "colorscale": {
           "diverging": [
            [
             0,
             "#8e0152"
            ],
            [
             0.1,
             "#c51b7d"
            ],
            [
             0.2,
             "#de77ae"
            ],
            [
             0.3,
             "#f1b6da"
            ],
            [
             0.4,
             "#fde0ef"
            ],
            [
             0.5,
             "#f7f7f7"
            ],
            [
             0.6,
             "#e6f5d0"
            ],
            [
             0.7,
             "#b8e186"
            ],
            [
             0.8,
             "#7fbc41"
            ],
            [
             0.9,
             "#4d9221"
            ],
            [
             1,
             "#276419"
            ]
           ],
           "sequential": [
            [
             0,
             "#0d0887"
            ],
            [
             0.1111111111111111,
             "#46039f"
            ],
            [
             0.2222222222222222,
             "#7201a8"
            ],
            [
             0.3333333333333333,
             "#9c179e"
            ],
            [
             0.4444444444444444,
             "#bd3786"
            ],
            [
             0.5555555555555556,
             "#d8576b"
            ],
            [
             0.6666666666666666,
             "#ed7953"
            ],
            [
             0.7777777777777778,
             "#fb9f3a"
            ],
            [
             0.8888888888888888,
             "#fdca26"
            ],
            [
             1,
             "#f0f921"
            ]
           ],
           "sequentialminus": [
            [
             0,
             "#0d0887"
            ],
            [
             0.1111111111111111,
             "#46039f"
            ],
            [
             0.2222222222222222,
             "#7201a8"
            ],
            [
             0.3333333333333333,
             "#9c179e"
            ],
            [
             0.4444444444444444,
             "#bd3786"
            ],
            [
             0.5555555555555556,
             "#d8576b"
            ],
            [
             0.6666666666666666,
             "#ed7953"
            ],
            [
             0.7777777777777778,
             "#fb9f3a"
            ],
            [
             0.8888888888888888,
             "#fdca26"
            ],
            [
             1,
             "#f0f921"
            ]
           ]
          },
          "colorway": [
           "#636efa",
           "#EF553B",
           "#00cc96",
           "#ab63fa",
           "#FFA15A",
           "#19d3f3",
           "#FF6692",
           "#B6E880",
           "#FF97FF",
           "#FECB52"
          ],
          "font": {
           "color": "#2a3f5f"
          },
          "geo": {
           "bgcolor": "white",
           "lakecolor": "white",
           "landcolor": "#E5ECF6",
           "showlakes": true,
           "showland": true,
           "subunitcolor": "white"
          },
          "hoverlabel": {
           "align": "left"
          },
          "hovermode": "closest",
          "mapbox": {
           "style": "light"
          },
          "paper_bgcolor": "white",
          "plot_bgcolor": "#E5ECF6",
          "polar": {
           "angularaxis": {
            "gridcolor": "white",
            "linecolor": "white",
            "ticks": ""
           },
           "bgcolor": "#E5ECF6",
           "radialaxis": {
            "gridcolor": "white",
            "linecolor": "white",
            "ticks": ""
           }
          },
          "scene": {
           "xaxis": {
            "backgroundcolor": "#E5ECF6",
            "gridcolor": "white",
            "gridwidth": 2,
            "linecolor": "white",
            "showbackground": true,
            "ticks": "",
            "zerolinecolor": "white"
           },
           "yaxis": {
            "backgroundcolor": "#E5ECF6",
            "gridcolor": "white",
            "gridwidth": 2,
            "linecolor": "white",
            "showbackground": true,
            "ticks": "",
            "zerolinecolor": "white"
           },
           "zaxis": {
            "backgroundcolor": "#E5ECF6",
            "gridcolor": "white",
            "gridwidth": 2,
            "linecolor": "white",
            "showbackground": true,
            "ticks": "",
            "zerolinecolor": "white"
           }
          },
          "shapedefaults": {
           "line": {
            "color": "#2a3f5f"
           }
          },
          "ternary": {
           "aaxis": {
            "gridcolor": "white",
            "linecolor": "white",
            "ticks": ""
           },
           "baxis": {
            "gridcolor": "white",
            "linecolor": "white",
            "ticks": ""
           },
           "bgcolor": "#E5ECF6",
           "caxis": {
            "gridcolor": "white",
            "linecolor": "white",
            "ticks": ""
           }
          },
          "title": {
           "x": 0.05
          },
          "xaxis": {
           "automargin": true,
           "gridcolor": "white",
           "linecolor": "white",
           "ticks": "",
           "title": {
            "standoff": 15
           },
           "zerolinecolor": "white",
           "zerolinewidth": 2
          },
          "yaxis": {
           "automargin": true,
           "gridcolor": "white",
           "linecolor": "white",
           "ticks": "",
           "title": {
            "standoff": 15
           },
           "zerolinecolor": "white",
           "zerolinewidth": 2
          }
         }
        }
       }
      }
     },
     "metadata": {},
     "output_type": "display_data"
    }
   ],
   "source": [
    "# Figure X - Best results for both tissues\n",
    "\n",
    "labels = [\"Correct\", \"Partially correct\", \"Incorrect\"]\n",
    "\n",
    "# Create subplots: use 'domain' type for Pie subplot\n",
    "fig = make_subplots(rows=1, cols=2, specs=[[{'type':'domain'}, \n",
    "                                            {'type':'domain'}]])\n",
    "fig.add_trace(go.Pie(labels=labels, values=[40, 9, 5], name=\"CP\"),\n",
    "              1, 1)\n",
    "fig.add_trace(go.Pie(labels=labels, values=[10, 31, 9], name=\"SBM\"),\n",
    "              1, 2)\n",
    "\n",
    "# Use `hole` to create a donut-like pie chart\n",
    "fig.update_traces(hole=.4, hoverinfo=\"label+percent+name\", \n",
    "                  marker=dict(colors=['#4C9F70', '#F2CD5D', '#F45B69']))\n",
    "\n",
    "fig.update_layout(\n",
    "    # Add annotations in the center of the donut pies.\n",
    "    annotations=[dict(text='CP', x=sum(fig.get_subplot(1, 1).x) / 2, y=0.5,\n",
    "                      font_size=14, showarrow=False, xanchor=\"center\"),\n",
    "                 dict(text='SBM', x=sum(fig.get_subplot(1, 2).x) / 2, y=0.5,\n",
    "                      font_size=14, showarrow=False, xanchor=\"center\")])\n",
    "\n",
    "fig.show()"
   ]
  },
  {
   "cell_type": "markdown",
   "metadata": {},
   "source": []
  },
  {
   "cell_type": "code",
   "execution_count": null,
   "metadata": {},
   "outputs": [],
   "source": [
    "# Figure X - GPTCelltype against every one else \n",
    "\n"
   ]
  }
 ],
 "metadata": {
  "kernelspec": {
   "display_name": "test",
   "language": "python",
   "name": "python3"
  },
  "language_info": {
   "codemirror_mode": {
    "name": "ipython",
    "version": 3
   },
   "file_extension": ".py",
   "mimetype": "text/x-python",
   "name": "python",
   "nbconvert_exporter": "python",
   "pygments_lexer": "ipython3",
   "version": "3.13.2"
  }
 },
 "nbformat": 4,
 "nbformat_minor": 2
}
