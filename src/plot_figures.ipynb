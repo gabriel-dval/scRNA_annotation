{
 "cells": [
  {
   "cell_type": "markdown",
   "metadata": {},
   "source": [
    "# Notebook to plot various figures"
   ]
  },
  {
   "cell_type": "markdown",
   "metadata": {},
   "source": [
    "In this notebook are the generated plotly figures for different tests and metrics"
   ]
  },
  {
   "cell_type": "code",
   "execution_count": 1,
   "metadata": {},
   "outputs": [],
   "source": [
    "import plotly.graph_objects as go\n",
    "import plotly.express as px\n",
    "import pandas as pd\n",
    "import numpy as np\n",
    "import os"
   ]
  },
  {
   "cell_type": "markdown",
   "metadata": {},
   "source": [
    "### Skull bone marrow results"
   ]
  },
  {
   "cell_type": "code",
   "execution_count": null,
   "metadata": {},
   "outputs": [
    {
     "data": {
      "application/vnd.plotly.v1+json": {
       "config": {
        "plotlyServerURL": "https://plot.ly"
       },
       "data": [
        {
         "marker": {
          "color": "green"
         },
         "name": "Correct",
         "type": "bar",
         "x": [
          "mATLAS FACS",
          "mATLAS Droplet",
          "PangLao",
          "CellXGene",
          "Tabula Muris"
         ],
         "y": [
          3,
          10,
          5,
          9,
          8
         ]
        },
        {
         "marker": {
          "color": "orange"
         },
         "name": "Partially correct",
         "type": "bar",
         "x": [
          "mATLAS FACS",
          "mATLAS Droplet",
          "PangLao",
          "CellXGene",
          "Tabula Muris"
         ],
         "y": [
          12,
          31,
          35,
          30,
          30
         ]
        },
        {
         "marker": {
          "color": "red"
         },
         "name": "Incorrect",
         "type": "bar",
         "x": [
          "mATLAS FACS",
          "mATLAS Droplet",
          "PangLao",
          "CellXGene",
          "Tabula Muris"
         ],
         "y": [
          35,
          9,
          10,
          11,
          12
         ]
        }
       ],
       "layout": {
        "barcornerradius": 5,
        "barmode": "group",
        "template": {
         "data": {
          "scatter": [
           {
            "type": "scatter"
           }
          ]
         }
        },
        "title": {
         "font": {
          "size": 16
         },
         "text": "SingleR annotation results for 5 reference datasets",
         "x": 0.5,
         "xanchor": "center",
         "y": 0.95,
         "yanchor": "top"
        },
        "yaxis": {
         "title": {
          "text": "Nb of clusters"
         }
        }
       }
      }
     },
     "metadata": {},
     "output_type": "display_data"
    }
   ],
   "source": [
    "# Figure 1 - show summary results for different reference datasets\n",
    "# Simple barchart for all 5 reference datasets\n",
    "\n",
    "ref_datasets=['mATLAS FACS', 'mATLAS Droplet', 'PangLao', 'CellXGene', 'Tabula Muris']\n",
    "y1 = [3, 10, 5, 9, 8]\n",
    "y2 = [12, 31, 35, 30, 30]\n",
    "y3 = [12, 31, 35, 30, 30]\n",
    "\n",
    "fig = go.Figure(data=[\n",
    "    go.Bar(name='Correct', x=ref_datasets, y=[3, 10, 5, 9, 8], marker_color='green'),\n",
    "    go.Bar(name='Partially correct', x=ref_datasets, y=[12, 31, 35, 30, 30], marker_color='orange'),\n",
    "    go.Bar(name='Incorrect', x=ref_datasets, y=[35, 9, 10, 11, 12], marker_color='red'),\n",
    "], layout=dict(\n",
    "        barcornerradius=5,\n",
    "    ),)\n",
    "# Change the bar mode\n",
    "fig.update_layout(barmode='group', \n",
    "                  template='none',\n",
    "                  yaxis_title='Nb of clusters',\n",
    "                  title = dict(text = 'SingleR annotation results for 5 reference datasets',\n",
    "                               font=dict(size=16),\n",
    "                               xanchor='center',\n",
    "                               yanchor='center',\n",
    "                               x=0.5,\n",
    "                               y=0.95))\n",
    "fig.show()\n",
    "\n"
   ]
  },
  {
   "cell_type": "code",
   "execution_count": null,
   "metadata": {},
   "outputs": [],
   "source": []
  },
  {
   "cell_type": "code",
   "execution_count": null,
   "metadata": {},
   "outputs": [],
   "source": [
    "# Figure 2 - show summary results for marker-based and correlation-based methods"
   ]
  },
  {
   "cell_type": "markdown",
   "metadata": {},
   "source": [
    "### Choroid Plexus results"
   ]
  },
  {
   "cell_type": "markdown",
   "metadata": {},
   "source": [
    "### SBM and CP combined results"
   ]
  },
  {
   "cell_type": "markdown",
   "metadata": {},
   "source": []
  }
 ],
 "metadata": {
  "kernelspec": {
   "display_name": "test",
   "language": "python",
   "name": "python3"
  },
  "language_info": {
   "codemirror_mode": {
    "name": "ipython",
    "version": 3
   },
   "file_extension": ".py",
   "mimetype": "text/x-python",
   "name": "python",
   "nbconvert_exporter": "python",
   "pygments_lexer": "ipython3",
   "version": "3.13.2"
  }
 },
 "nbformat": 4,
 "nbformat_minor": 2
}
